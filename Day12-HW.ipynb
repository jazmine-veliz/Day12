{
 "cells": [
  {
   "cell_type": "markdown",
   "id": "33738fde-205d-4e95-b885-807e97a8adf6",
   "metadata": {},
   "source": [
    "## Introduction to Data Science\n",
    "\n",
    "#### University of Redlands - DATA 101\n",
    "#### Prof: Joanna Bieri [joanna_bieri@redlands.edu](mailto:joanna_bieri@redlands.edu)\n",
    "#### [Class Website: data101.joannabieri.com](https://joannabieri.com/data101.html)\n",
    "\n",
    "---------------------------------------\n",
    "# Homework Day 12\n",
    "---------------------------------------\n",
    "\n",
    "GOALS:\n",
    "\n",
    "1. Practice web scraping.\n",
    "\n",
    "----------------------------------------------------------\n",
    "\n",
    "This homework has **3 questions**, **1 exercise** and **1 optional challenge problem**."
   ]
  },
  {
   "cell_type": "markdown",
   "id": "2bf78cd1",
   "metadata": {},
   "source": [
    "## Important Information\n",
    "\n",
    "- Email: [joanna_bieri@redlands.edu](mailto:joanna_bieri@redlands.edu)\n",
    "- Office Hours: Duke 209 <a href=\"https://joannabieri.com/schedule.html\"> Click Here for Joanna's Schedule</a>\n",
    "\n",
    "## Announcements\n",
    "\n",
    "**In NEXT WEEK - Data Ethics** This week you should be reading your book or articles.\n",
    "\n",
    "## Day 12 Assignment - same drill.\n",
    "\n",
    "1. Make sure you can **Fork** and **Clone** the Day12 repo from [Redlands-DATA101](https://github.com/Redlands-DATA101)\n",
    "2. Open the file Day12-HW.ipynb and start doing the problems.\n",
    "    * You can do these problems as you follow along with the lecture notes and video.\n",
    "3. Get as far as you can before class.\n",
    "4. Submit what you have so far **Commit** and **Push** to Git.\n",
    "5. Take the daily check in quiz on **Canvas**.\n",
    "7. Come to class with lots of questions!\n",
    "\n",
    "------------------------------\n",
    "---------------------\n",
    "\n",
    "### Web Scraping Ethical Issues\n",
    "\n",
    "There are some things to be aware of before you start scraping data from the web. \n",
    "\n",
    "- Some data is private or protected. Just because you have access to a websites data doesn't mean you are allowed to scrape it. For example, when you log into Facebook or another social media site, you are granted special access to data about your connected people. It is unethical to use that access to scrape their private data!\n",
    "\n",
    "- Some websites have rules against scraping and will cut of service to users who are clearly scraping data. How do they know? Webscrapers access the website very differently that regular users. If they site has a policy about scraping data then you should follow it and/or content them about getting the data if you have a true academic interest in the data.\n",
    "\n",
    "- The line between web scraping and plagiarism can be very blurry. Make sure that you are citing where your data comes from AND not just reproducing the data exactly. Always citing the source of your data and make sure you are doing something new with it.\n",
    "\n",
    "- Ethics are different depending on if you are using the data for a personal project (eg. you just want to check scores for your favorite team daily and print the stuff you care about) vs if you are using the project for your business or website (eg. publishing information to drive clicks to your site/video/account or making money from the data you collect). In the later case it is EXTRA important to respect the original owner of the data. Drive web traffic back to their site, check with them about using their data, etc.\n",
    "\n",
    "**The Ethical Scraper** (from https://towardsdatascience.com/ethics-in-web-scraping-b96b18136f01):\n",
    "\n",
    "I, the web scraper will live by the following principles:\n",
    "\n",
    "- If you have a public API that provides the data I’m looking for, I’ll use it and avoid scraping all together.\n",
    "- I will always provide a User Agent string that makes my intentions clear and provides a way for you to contact me with questions or concerns.\n",
    "- I will request data at a reasonable rate. I will strive to never be confused for a DDoS attack.\n",
    "- I will only save the data I absolutely need from your page. If all I need it OpenGraph meta-data, that’s all I’ll keep.\n",
    "- I will respect any content I do keep. I’ll never pass it off as my own.\n",
    "- I will look for ways to return value to you. Maybe I can drive some (real) traffic to your site or credit you in an article or post.\n",
    "- I will respond in a timely fashion to your outreach and work with you towards a resolution.\n",
    "- I will scrape for the purpose of creating new value from the data, not to duplicate it."
   ]
  },
  {
   "cell_type": "code",
   "execution_count": 233,
   "id": "b608007e",
   "metadata": {},
   "outputs": [],
   "source": [
    "import numpy as np\n",
    "import pandas as pd\n",
    "\n",
    "import matplotlib.pyplot as plt\n",
    "import plotly.express as px\n",
    "from plotly.subplots import make_subplots\n",
    "import plotly.io as pio\n",
    "pio.renderers.defaule = 'colab'\n",
    "\n",
    "from itables import show\n",
    "\n",
    "# This stops a few warning messages from showing\n",
    "pd.options.mode.chained_assignment = None \n",
    "import warnings\n",
    "warnings.simplefilter(action='ignore', category=FutureWarning)"
   ]
  },
  {
   "cell_type": "markdown",
   "id": "3eec300d",
   "metadata": {},
   "source": [
    "## Using pandas to get table data.\n",
    "\n",
    "**Optional** - try using pandas to scrape a new site. See if you get errors or are able to find tables on that site.\n"
   ]
  },
  {
   "cell_type": "code",
   "execution_count": 6,
   "id": "1910c908-c94e-4489-9e5e-3804a719e3f1",
   "metadata": {},
   "outputs": [],
   "source": [
    "my_website = \"https://www.basketball-reference.com/wnba/teams/SAS/players.html\"\n",
    "DF = pd.read_html(my_website)"
   ]
  },
  {
   "cell_type": "code",
   "execution_count": 7,
   "id": "72a131e9-d391-4b24-8f16-35d67912b5b0",
   "metadata": {},
   "outputs": [
    {
     "data": {
      "text/html": [
       "<div>\n",
       "<style scoped>\n",
       "    .dataframe tbody tr th:only-of-type {\n",
       "        vertical-align: middle;\n",
       "    }\n",
       "\n",
       "    .dataframe tbody tr th {\n",
       "        vertical-align: top;\n",
       "    }\n",
       "\n",
       "    .dataframe thead th {\n",
       "        text-align: right;\n",
       "    }\n",
       "</style>\n",
       "<table border=\"1\" class=\"dataframe\">\n",
       "  <thead>\n",
       "    <tr style=\"text-align: right;\">\n",
       "      <th></th>\n",
       "      <th>Rk</th>\n",
       "      <th>Player</th>\n",
       "      <th>From</th>\n",
       "      <th>To</th>\n",
       "      <th>Yrs</th>\n",
       "      <th>Unnamed: 5</th>\n",
       "      <th>G</th>\n",
       "      <th>MP</th>\n",
       "      <th>FG</th>\n",
       "      <th>FGA</th>\n",
       "      <th>...</th>\n",
       "      <th>PTS</th>\n",
       "      <th>Unnamed: 22</th>\n",
       "      <th>FG%</th>\n",
       "      <th>3P%</th>\n",
       "      <th>FT%</th>\n",
       "      <th>Unnamed: 26</th>\n",
       "      <th>MP.1</th>\n",
       "      <th>PTS.1</th>\n",
       "      <th>TRB.1</th>\n",
       "      <th>AST.1</th>\n",
       "    </tr>\n",
       "  </thead>\n",
       "  <tbody>\n",
       "    <tr>\n",
       "      <th>0</th>\n",
       "      <td>1</td>\n",
       "      <td>Danielle Adams</td>\n",
       "      <td>2011</td>\n",
       "      <td>2015</td>\n",
       "      <td>5</td>\n",
       "      <td>NaN</td>\n",
       "      <td>155</td>\n",
       "      <td>3247</td>\n",
       "      <td>624</td>\n",
       "      <td>1472</td>\n",
       "      <td>...</td>\n",
       "      <td>1771</td>\n",
       "      <td>NaN</td>\n",
       "      <td>0.424</td>\n",
       "      <td>0.328</td>\n",
       "      <td>0.754</td>\n",
       "      <td>NaN</td>\n",
       "      <td>20.9</td>\n",
       "      <td>11.4</td>\n",
       "      <td>4.3</td>\n",
       "      <td>0.9</td>\n",
       "    </tr>\n",
       "    <tr>\n",
       "      <th>1</th>\n",
       "      <td>2</td>\n",
       "      <td>Elisa Aguilar</td>\n",
       "      <td>2002</td>\n",
       "      <td>2002</td>\n",
       "      <td>1</td>\n",
       "      <td>NaN</td>\n",
       "      <td>28</td>\n",
       "      <td>141</td>\n",
       "      <td>14</td>\n",
       "      <td>33</td>\n",
       "      <td>...</td>\n",
       "      <td>43</td>\n",
       "      <td>NaN</td>\n",
       "      <td>0.424</td>\n",
       "      <td>0.524</td>\n",
       "      <td>0.571</td>\n",
       "      <td>NaN</td>\n",
       "      <td>5.0</td>\n",
       "      <td>1.5</td>\n",
       "      <td>0.4</td>\n",
       "      <td>0.6</td>\n",
       "    </tr>\n",
       "    <tr>\n",
       "      <th>2</th>\n",
       "      <td>3</td>\n",
       "      <td>Kayla Alexander</td>\n",
       "      <td>2013</td>\n",
       "      <td>2017</td>\n",
       "      <td>5</td>\n",
       "      <td>NaN</td>\n",
       "      <td>154</td>\n",
       "      <td>2038</td>\n",
       "      <td>278</td>\n",
       "      <td>555</td>\n",
       "      <td>...</td>\n",
       "      <td>692</td>\n",
       "      <td>NaN</td>\n",
       "      <td>0.501</td>\n",
       "      <td>NaN</td>\n",
       "      <td>0.764</td>\n",
       "      <td>NaN</td>\n",
       "      <td>13.2</td>\n",
       "      <td>4.5</td>\n",
       "      <td>3.1</td>\n",
       "      <td>0.3</td>\n",
       "    </tr>\n",
       "    <tr>\n",
       "      <th>3</th>\n",
       "      <td>4</td>\n",
       "      <td>Lindsay Allen</td>\n",
       "      <td>2018</td>\n",
       "      <td>2020</td>\n",
       "      <td>2</td>\n",
       "      <td>NaN</td>\n",
       "      <td>45</td>\n",
       "      <td>642</td>\n",
       "      <td>56</td>\n",
       "      <td>139</td>\n",
       "      <td>...</td>\n",
       "      <td>144</td>\n",
       "      <td>NaN</td>\n",
       "      <td>0.403</td>\n",
       "      <td>0.212</td>\n",
       "      <td>0.735</td>\n",
       "      <td>NaN</td>\n",
       "      <td>14.3</td>\n",
       "      <td>3.2</td>\n",
       "      <td>1.2</td>\n",
       "      <td>2.7</td>\n",
       "    </tr>\n",
       "    <tr>\n",
       "      <th>4</th>\n",
       "      <td>5</td>\n",
       "      <td>Chantelle Anderson</td>\n",
       "      <td>2005</td>\n",
       "      <td>2007</td>\n",
       "      <td>3</td>\n",
       "      <td>NaN</td>\n",
       "      <td>68</td>\n",
       "      <td>1168</td>\n",
       "      <td>152</td>\n",
       "      <td>310</td>\n",
       "      <td>...</td>\n",
       "      <td>384</td>\n",
       "      <td>NaN</td>\n",
       "      <td>0.490</td>\n",
       "      <td>NaN</td>\n",
       "      <td>0.777</td>\n",
       "      <td>NaN</td>\n",
       "      <td>17.2</td>\n",
       "      <td>5.6</td>\n",
       "      <td>2.9</td>\n",
       "      <td>0.4</td>\n",
       "    </tr>\n",
       "    <tr>\n",
       "      <th>...</th>\n",
       "      <td>...</td>\n",
       "      <td>...</td>\n",
       "      <td>...</td>\n",
       "      <td>...</td>\n",
       "      <td>...</td>\n",
       "      <td>...</td>\n",
       "      <td>...</td>\n",
       "      <td>...</td>\n",
       "      <td>...</td>\n",
       "      <td>...</td>\n",
       "      <td>...</td>\n",
       "      <td>...</td>\n",
       "      <td>...</td>\n",
       "      <td>...</td>\n",
       "      <td>...</td>\n",
       "      <td>...</td>\n",
       "      <td>...</td>\n",
       "      <td>...</td>\n",
       "      <td>...</td>\n",
       "      <td>...</td>\n",
       "      <td>...</td>\n",
       "    </tr>\n",
       "    <tr>\n",
       "      <th>146</th>\n",
       "      <td>147</td>\n",
       "      <td>Nevriye Yilmaz</td>\n",
       "      <td>2004</td>\n",
       "      <td>2004</td>\n",
       "      <td>1</td>\n",
       "      <td>NaN</td>\n",
       "      <td>7</td>\n",
       "      <td>77</td>\n",
       "      <td>6</td>\n",
       "      <td>24</td>\n",
       "      <td>...</td>\n",
       "      <td>19</td>\n",
       "      <td>NaN</td>\n",
       "      <td>0.250</td>\n",
       "      <td>0.143</td>\n",
       "      <td>1.000</td>\n",
       "      <td>NaN</td>\n",
       "      <td>11.0</td>\n",
       "      <td>2.7</td>\n",
       "      <td>1.4</td>\n",
       "      <td>0.3</td>\n",
       "    </tr>\n",
       "    <tr>\n",
       "      <th>147</th>\n",
       "      <td>148</td>\n",
       "      <td>Jackie Young</td>\n",
       "      <td>2019</td>\n",
       "      <td>2024</td>\n",
       "      <td>6</td>\n",
       "      <td>NaN</td>\n",
       "      <td>199</td>\n",
       "      <td>5944</td>\n",
       "      <td>965</td>\n",
       "      <td>2075</td>\n",
       "      <td>...</td>\n",
       "      <td>2685</td>\n",
       "      <td>NaN</td>\n",
       "      <td>0.465</td>\n",
       "      <td>0.386</td>\n",
       "      <td>0.852</td>\n",
       "      <td>NaN</td>\n",
       "      <td>29.9</td>\n",
       "      <td>13.5</td>\n",
       "      <td>4.0</td>\n",
       "      <td>4.0</td>\n",
       "    </tr>\n",
       "    <tr>\n",
       "      <th>148</th>\n",
       "      <td>149</td>\n",
       "      <td>Sophia Young-Malcolm</td>\n",
       "      <td>2006</td>\n",
       "      <td>2015</td>\n",
       "      <td>9</td>\n",
       "      <td>NaN</td>\n",
       "      <td>301</td>\n",
       "      <td>9258</td>\n",
       "      <td>1659</td>\n",
       "      <td>3545</td>\n",
       "      <td>...</td>\n",
       "      <td>4300</td>\n",
       "      <td>NaN</td>\n",
       "      <td>0.468</td>\n",
       "      <td>0.223</td>\n",
       "      <td>0.718</td>\n",
       "      <td>NaN</td>\n",
       "      <td>30.8</td>\n",
       "      <td>14.3</td>\n",
       "      <td>6.0</td>\n",
       "      <td>1.8</td>\n",
       "    </tr>\n",
       "    <tr>\n",
       "      <th>149</th>\n",
       "      <td>150</td>\n",
       "      <td>Tamera Young</td>\n",
       "      <td>2018</td>\n",
       "      <td>2019</td>\n",
       "      <td>2</td>\n",
       "      <td>NaN</td>\n",
       "      <td>67</td>\n",
       "      <td>1509</td>\n",
       "      <td>197</td>\n",
       "      <td>495</td>\n",
       "      <td>...</td>\n",
       "      <td>507</td>\n",
       "      <td>NaN</td>\n",
       "      <td>0.398</td>\n",
       "      <td>0.310</td>\n",
       "      <td>0.680</td>\n",
       "      <td>NaN</td>\n",
       "      <td>22.5</td>\n",
       "      <td>7.6</td>\n",
       "      <td>4.4</td>\n",
       "      <td>2.4</td>\n",
       "    </tr>\n",
       "    <tr>\n",
       "      <th>150</th>\n",
       "      <td>151</td>\n",
       "      <td>Shanna Zolman</td>\n",
       "      <td>2006</td>\n",
       "      <td>2009</td>\n",
       "      <td>3</td>\n",
       "      <td>NaN</td>\n",
       "      <td>87</td>\n",
       "      <td>1273</td>\n",
       "      <td>225</td>\n",
       "      <td>567</td>\n",
       "      <td>...</td>\n",
       "      <td>635</td>\n",
       "      <td>NaN</td>\n",
       "      <td>0.397</td>\n",
       "      <td>0.402</td>\n",
       "      <td>0.811</td>\n",
       "      <td>NaN</td>\n",
       "      <td>14.6</td>\n",
       "      <td>7.3</td>\n",
       "      <td>1.1</td>\n",
       "      <td>0.8</td>\n",
       "    </tr>\n",
       "  </tbody>\n",
       "</table>\n",
       "<p>151 rows × 31 columns</p>\n",
       "</div>"
      ],
      "text/plain": [
       "      Rk                Player  From    To  Yrs  Unnamed: 5    G    MP    FG  \\\n",
       "0      1        Danielle Adams  2011  2015    5         NaN  155  3247   624   \n",
       "1      2         Elisa Aguilar  2002  2002    1         NaN   28   141    14   \n",
       "2      3       Kayla Alexander  2013  2017    5         NaN  154  2038   278   \n",
       "3      4         Lindsay Allen  2018  2020    2         NaN   45   642    56   \n",
       "4      5    Chantelle Anderson  2005  2007    3         NaN   68  1168   152   \n",
       "..   ...                   ...   ...   ...  ...         ...  ...   ...   ...   \n",
       "146  147        Nevriye Yilmaz  2004  2004    1         NaN    7    77     6   \n",
       "147  148          Jackie Young  2019  2024    6         NaN  199  5944   965   \n",
       "148  149  Sophia Young-Malcolm  2006  2015    9         NaN  301  9258  1659   \n",
       "149  150          Tamera Young  2018  2019    2         NaN   67  1509   197   \n",
       "150  151         Shanna Zolman  2006  2009    3         NaN   87  1273   225   \n",
       "\n",
       "      FGA  ...   PTS  Unnamed: 22    FG%    3P%    FT%  Unnamed: 26  MP.1  \\\n",
       "0    1472  ...  1771          NaN  0.424  0.328  0.754          NaN  20.9   \n",
       "1      33  ...    43          NaN  0.424  0.524  0.571          NaN   5.0   \n",
       "2     555  ...   692          NaN  0.501    NaN  0.764          NaN  13.2   \n",
       "3     139  ...   144          NaN  0.403  0.212  0.735          NaN  14.3   \n",
       "4     310  ...   384          NaN  0.490    NaN  0.777          NaN  17.2   \n",
       "..    ...  ...   ...          ...    ...    ...    ...          ...   ...   \n",
       "146    24  ...    19          NaN  0.250  0.143  1.000          NaN  11.0   \n",
       "147  2075  ...  2685          NaN  0.465  0.386  0.852          NaN  29.9   \n",
       "148  3545  ...  4300          NaN  0.468  0.223  0.718          NaN  30.8   \n",
       "149   495  ...   507          NaN  0.398  0.310  0.680          NaN  22.5   \n",
       "150   567  ...   635          NaN  0.397  0.402  0.811          NaN  14.6   \n",
       "\n",
       "     PTS.1  TRB.1  AST.1  \n",
       "0     11.4    4.3    0.9  \n",
       "1      1.5    0.4    0.6  \n",
       "2      4.5    3.1    0.3  \n",
       "3      3.2    1.2    2.7  \n",
       "4      5.6    2.9    0.4  \n",
       "..     ...    ...    ...  \n",
       "146    2.7    1.4    0.3  \n",
       "147   13.5    4.0    4.0  \n",
       "148   14.3    6.0    1.8  \n",
       "149    7.6    4.4    2.4  \n",
       "150    7.3    1.1    0.8  \n",
       "\n",
       "[151 rows x 31 columns]"
      ]
     },
     "execution_count": 7,
     "metadata": {},
     "output_type": "execute_result"
    }
   ],
   "source": [
    "# Lets see what Pandas got for us:\n",
    "ACES = DF[0].copy()\n",
    "ACES"
   ]
  },
  {
   "cell_type": "code",
   "execution_count": 8,
   "id": "083ade3a-d67a-4e1c-8e65-00e8df583761",
   "metadata": {},
   "outputs": [
    {
     "data": {
      "text/html": [
       "<div>\n",
       "<style scoped>\n",
       "    .dataframe tbody tr th:only-of-type {\n",
       "        vertical-align: middle;\n",
       "    }\n",
       "\n",
       "    .dataframe tbody tr th {\n",
       "        vertical-align: top;\n",
       "    }\n",
       "\n",
       "    .dataframe thead th {\n",
       "        text-align: right;\n",
       "    }\n",
       "</style>\n",
       "<table border=\"1\" class=\"dataframe\">\n",
       "  <thead>\n",
       "    <tr style=\"text-align: right;\">\n",
       "      <th></th>\n",
       "      <th>Unnamed: 5</th>\n",
       "      <th>Unnamed: 22</th>\n",
       "      <th>Unnamed: 26</th>\n",
       "    </tr>\n",
       "  </thead>\n",
       "  <tbody>\n",
       "    <tr>\n",
       "      <th>0</th>\n",
       "      <td>NaN</td>\n",
       "      <td>NaN</td>\n",
       "      <td>NaN</td>\n",
       "    </tr>\n",
       "    <tr>\n",
       "      <th>1</th>\n",
       "      <td>NaN</td>\n",
       "      <td>NaN</td>\n",
       "      <td>NaN</td>\n",
       "    </tr>\n",
       "    <tr>\n",
       "      <th>2</th>\n",
       "      <td>NaN</td>\n",
       "      <td>NaN</td>\n",
       "      <td>NaN</td>\n",
       "    </tr>\n",
       "    <tr>\n",
       "      <th>3</th>\n",
       "      <td>NaN</td>\n",
       "      <td>NaN</td>\n",
       "      <td>NaN</td>\n",
       "    </tr>\n",
       "    <tr>\n",
       "      <th>4</th>\n",
       "      <td>NaN</td>\n",
       "      <td>NaN</td>\n",
       "      <td>NaN</td>\n",
       "    </tr>\n",
       "    <tr>\n",
       "      <th>...</th>\n",
       "      <td>...</td>\n",
       "      <td>...</td>\n",
       "      <td>...</td>\n",
       "    </tr>\n",
       "    <tr>\n",
       "      <th>146</th>\n",
       "      <td>NaN</td>\n",
       "      <td>NaN</td>\n",
       "      <td>NaN</td>\n",
       "    </tr>\n",
       "    <tr>\n",
       "      <th>147</th>\n",
       "      <td>NaN</td>\n",
       "      <td>NaN</td>\n",
       "      <td>NaN</td>\n",
       "    </tr>\n",
       "    <tr>\n",
       "      <th>148</th>\n",
       "      <td>NaN</td>\n",
       "      <td>NaN</td>\n",
       "      <td>NaN</td>\n",
       "    </tr>\n",
       "    <tr>\n",
       "      <th>149</th>\n",
       "      <td>NaN</td>\n",
       "      <td>NaN</td>\n",
       "      <td>NaN</td>\n",
       "    </tr>\n",
       "    <tr>\n",
       "      <th>150</th>\n",
       "      <td>NaN</td>\n",
       "      <td>NaN</td>\n",
       "      <td>NaN</td>\n",
       "    </tr>\n",
       "  </tbody>\n",
       "</table>\n",
       "<p>151 rows × 3 columns</p>\n",
       "</div>"
      ],
      "text/plain": [
       "     Unnamed: 5  Unnamed: 22  Unnamed: 26\n",
       "0           NaN          NaN          NaN\n",
       "1           NaN          NaN          NaN\n",
       "2           NaN          NaN          NaN\n",
       "3           NaN          NaN          NaN\n",
       "4           NaN          NaN          NaN\n",
       "..          ...          ...          ...\n",
       "146         NaN          NaN          NaN\n",
       "147         NaN          NaN          NaN\n",
       "148         NaN          NaN          NaN\n",
       "149         NaN          NaN          NaN\n",
       "150         NaN          NaN          NaN\n",
       "\n",
       "[151 rows x 3 columns]"
      ]
     },
     "execution_count": 8,
     "metadata": {},
     "output_type": "execute_result"
    }
   ],
   "source": [
    "columns = ['Unnamed: 5', 'Unnamed: 22','Unnamed: 26']\n",
    "ACES[columns]\n",
    "ACES[columns]"
   ]
  },
  {
   "cell_type": "code",
   "execution_count": 9,
   "id": "4495a02e-c7c9-466a-a855-5da686517fc6",
   "metadata": {},
   "outputs": [
    {
     "data": {
      "text/plain": [
       "Unnamed: 5     151\n",
       "Unnamed: 22    151\n",
       "Unnamed: 26    151\n",
       "dtype: int64"
      ]
     },
     "execution_count": 9,
     "metadata": {},
     "output_type": "execute_result"
    }
   ],
   "source": [
    "ACES[columns].isna().sum()"
   ]
  },
  {
   "cell_type": "markdown",
   "id": "3462ce86-212e-489a-97bc-e000ab33908c",
   "metadata": {},
   "source": [
    "I copied the codes above from the lecture to help me better understand since I couldn't upload my own data."
   ]
  },
  {
   "cell_type": "code",
   "execution_count": 11,
   "id": "bed23ddb-da7c-42f6-af7f-4d70161afe31",
   "metadata": {},
   "outputs": [],
   "source": [
    "#my_website='https://www.kaggle.com/datasets/michals22/coffee-dataset?resource=download'\n",
    "#DF=pd.read_html(my_website)\n",
    "#DF"
   ]
  },
  {
   "cell_type": "markdown",
   "id": "9faebc13",
   "metadata": {},
   "source": [
    "---\n",
    "---\n",
    "\n",
    "## Using Beautiful Soup to get HTML code\n",
    "\n",
    "### How to get data from static sites:\n",
    "\n",
    "You should already have the packages bs4 and requests but if you get an error try running:\n",
    "\n",
    "```{python}\n",
    "!conda install -y bs4\n",
    "!conda install -y requests\n",
    "```"
   ]
  },
  {
   "cell_type": "code",
   "execution_count": 13,
   "id": "1688f055",
   "metadata": {},
   "outputs": [],
   "source": [
    "import requests\n",
    "from bs4 import BeautifulSoup"
   ]
  },
  {
   "cell_type": "code",
   "execution_count": 14,
   "id": "aad9d963",
   "metadata": {},
   "outputs": [],
   "source": [
    "website = 'https://www.scrapethissite.com/pages/simple/'"
   ]
  },
  {
   "cell_type": "code",
   "execution_count": 15,
   "id": "08ea4457",
   "metadata": {},
   "outputs": [],
   "source": [
    "raw_code = requests.get(website)\n",
    "html_doc = raw_code.text\n",
    "soup = BeautifulSoup(html_doc, 'html.parser')"
   ]
  },
  {
   "cell_type": "markdown",
   "id": "dd104b88",
   "metadata": {},
   "source": [
    "#### Lets see what is in soup\n",
    "\n",
    "**Q1** Uncomment this line and run the cell. You will see a TON of text!\n",
    "\n",
    "**Q1** When I ran the code I noticed that there were 13 different links and many different command codes."
   ]
  },
  {
   "cell_type": "code",
   "execution_count": 17,
   "id": "98582e0c",
   "metadata": {},
   "outputs": [],
   "source": [
    "#soup"
   ]
  },
  {
   "cell_type": "markdown",
   "id": "8a248cb1",
   "metadata": {},
   "source": [
    "### Extracting data from HTML:\n",
    "\n",
    "We will use the **soup.find_all()** function.\n",
    "\n",
    "Here is the simplified function signature:\n",
    "\n",
    "    soup.find_all(name=None,attrs={})\n",
    "    \n",
    "You can type soup.find_all? and run it to see all the information about additional arguments and advanced processes.\n",
    "\n",
    "**Here is how we will mostly use it**, but there are much more advanced things you can do:\n",
    "\n",
    "    soup.find_all( <type of section>, <info> )\n",
    "    \n",
    "The **.find_all()** function searches through the information in soup to match and return only sections that match the info. Here are some important types you might search for:\n",
    "\n",
    "- 'h2' - this is a heading\n",
    "- 'div' - this divides a block of information\n",
    "- 'span' - this divides inline information\n",
    "- 'a' - this specifies a hyperlink\n",
    "- 'li' - this is a list item\n",
    "\n",
    "- class_= - many things have the class label (notice the underscore!)\n",
    "- string= - you can also search by strings.\n",
    "\n",
    "\n",
    "### Using Developer tools:\n",
    "\n",
    "To figure out what data to extract I suggest you use developer tools on the website to find what you need. \n",
    "\n",
    "**Q2** Navigate to the website and use developer tools to explore the html code.\n",
    "\n",
    "**Q2** I explored the html code on my laptop with the devloper tools and it was almost identical to what appeared on the lecture video. The only thing that was different on my end was the location of the developer tools (in the video they were on the right but on my laptop they were at the bottom).\n",
    "\n",
    "[Scrape This Site -  Website](https://www.scrapethissite.com/pages/simple/)\n",
    "\n",
    "I really like Brave Browser or Google Chrome for this, but most browsers with have **More Tools/Developer Tools** where you can see the code.\n",
    "\n",
    "### Search for all the country names\n",
    "\n",
    "The names of the country are inside \n",
    "        \n",
    "        <h3 class=\"country-name\">\n",
    "\n",
    "So lets search for this:"
   ]
  },
  {
   "cell_type": "code",
   "execution_count": 19,
   "id": "985bd22c-7b06-48a9-9855-9f4b54e8d786",
   "metadata": {},
   "outputs": [],
   "source": [
    "#lecture\n",
    "result = soup.find_all('h3',class_=\"country-name\")\n",
    "#print(result)"
   ]
  },
  {
   "cell_type": "code",
   "execution_count": 20,
   "id": "f40aad61-f703-4be8-92e0-cf4bb3d0bf19",
   "metadata": {},
   "outputs": [
    {
     "data": {
      "text/plain": [
       "'\\n\\n                            Andorra\\n                        '"
      ]
     },
     "execution_count": 20,
     "metadata": {},
     "output_type": "execute_result"
    }
   ],
   "source": [
    "result[0].text"
   ]
  },
  {
   "cell_type": "code",
   "execution_count": 21,
   "id": "3627f6b0-9ebf-403c-b25e-9d12c2055e48",
   "metadata": {},
   "outputs": [
    {
     "data": {
      "text/plain": [
       "'Andorra'"
      ]
     },
     "execution_count": 21,
     "metadata": {},
     "output_type": "execute_result"
    }
   ],
   "source": [
    "result[0].text.lstrip().rstrip()"
   ]
  },
  {
   "cell_type": "code",
   "execution_count": 22,
   "id": "dbf3aee2-3acd-4049-92a1-a8de73b1f16e",
   "metadata": {},
   "outputs": [
    {
     "data": {
      "text/html": [
       "<div>\n",
       "<style scoped>\n",
       "    .dataframe tbody tr th:only-of-type {\n",
       "        vertical-align: middle;\n",
       "    }\n",
       "\n",
       "    .dataframe tbody tr th {\n",
       "        vertical-align: top;\n",
       "    }\n",
       "\n",
       "    .dataframe thead th {\n",
       "        text-align: right;\n",
       "    }\n",
       "</style>\n",
       "<table border=\"1\" class=\"dataframe\">\n",
       "  <thead>\n",
       "    <tr style=\"text-align: right;\">\n",
       "      <th></th>\n",
       "      <th>country</th>\n",
       "    </tr>\n",
       "  </thead>\n",
       "  <tbody>\n",
       "    <tr>\n",
       "      <th>0</th>\n",
       "      <td>Andorra</td>\n",
       "    </tr>\n",
       "    <tr>\n",
       "      <th>1</th>\n",
       "      <td>United Arab Emirates</td>\n",
       "    </tr>\n",
       "    <tr>\n",
       "      <th>2</th>\n",
       "      <td>Afghanistan</td>\n",
       "    </tr>\n",
       "    <tr>\n",
       "      <th>3</th>\n",
       "      <td>Antigua and Barbuda</td>\n",
       "    </tr>\n",
       "    <tr>\n",
       "      <th>4</th>\n",
       "      <td>Anguilla</td>\n",
       "    </tr>\n",
       "    <tr>\n",
       "      <th>...</th>\n",
       "      <td>...</td>\n",
       "    </tr>\n",
       "    <tr>\n",
       "      <th>245</th>\n",
       "      <td>Yemen</td>\n",
       "    </tr>\n",
       "    <tr>\n",
       "      <th>246</th>\n",
       "      <td>Mayotte</td>\n",
       "    </tr>\n",
       "    <tr>\n",
       "      <th>247</th>\n",
       "      <td>South Africa</td>\n",
       "    </tr>\n",
       "    <tr>\n",
       "      <th>248</th>\n",
       "      <td>Zambia</td>\n",
       "    </tr>\n",
       "    <tr>\n",
       "      <th>249</th>\n",
       "      <td>Zimbabwe</td>\n",
       "    </tr>\n",
       "  </tbody>\n",
       "</table>\n",
       "<p>250 rows × 1 columns</p>\n",
       "</div>"
      ],
      "text/plain": [
       "                  country\n",
       "0                 Andorra\n",
       "1    United Arab Emirates\n",
       "2             Afghanistan\n",
       "3     Antigua and Barbuda\n",
       "4                Anguilla\n",
       "..                    ...\n",
       "245                 Yemen\n",
       "246               Mayotte\n",
       "247          South Africa\n",
       "248                Zambia\n",
       "249              Zimbabwe\n",
       "\n",
       "[250 rows x 1 columns]"
      ]
     },
     "execution_count": 22,
     "metadata": {},
     "output_type": "execute_result"
    }
   ],
   "source": [
    "DF = pd.DataFrame()\n",
    "DF['country']=result\n",
    "DF['country'] =DF['country'].apply(lambda x: x.text.rstrip().lstrip())\n",
    "DF"
   ]
  },
  {
   "cell_type": "code",
   "execution_count": 23,
   "id": "02900252-18fd-43a9-b712-d19803525e04",
   "metadata": {},
   "outputs": [],
   "source": [
    "result = soup.find_all('span',class_=\"country-capital\")"
   ]
  },
  {
   "cell_type": "code",
   "execution_count": 24,
   "id": "bed48649-5d09-494f-b85d-f9dbe010bf55",
   "metadata": {},
   "outputs": [
    {
     "data": {
      "text/plain": [
       "'Andorra la Vella'"
      ]
     },
     "execution_count": 24,
     "metadata": {},
     "output_type": "execute_result"
    }
   ],
   "source": [
    "result[0].text"
   ]
  },
  {
   "cell_type": "code",
   "execution_count": 25,
   "id": "c5556ad9-a7bb-4245-9d67-91c24399d143",
   "metadata": {},
   "outputs": [
    {
     "data": {
      "text/html": [
       "<div>\n",
       "<style scoped>\n",
       "    .dataframe tbody tr th:only-of-type {\n",
       "        vertical-align: middle;\n",
       "    }\n",
       "\n",
       "    .dataframe tbody tr th {\n",
       "        vertical-align: top;\n",
       "    }\n",
       "\n",
       "    .dataframe thead th {\n",
       "        text-align: right;\n",
       "    }\n",
       "</style>\n",
       "<table border=\"1\" class=\"dataframe\">\n",
       "  <thead>\n",
       "    <tr style=\"text-align: right;\">\n",
       "      <th></th>\n",
       "      <th>country</th>\n",
       "      <th>capital</th>\n",
       "    </tr>\n",
       "  </thead>\n",
       "  <tbody>\n",
       "    <tr>\n",
       "      <th>0</th>\n",
       "      <td>Andorra</td>\n",
       "      <td>Andorra la Vella</td>\n",
       "    </tr>\n",
       "    <tr>\n",
       "      <th>1</th>\n",
       "      <td>United Arab Emirates</td>\n",
       "      <td>Abu Dhabi</td>\n",
       "    </tr>\n",
       "    <tr>\n",
       "      <th>2</th>\n",
       "      <td>Afghanistan</td>\n",
       "      <td>Kabul</td>\n",
       "    </tr>\n",
       "    <tr>\n",
       "      <th>3</th>\n",
       "      <td>Antigua and Barbuda</td>\n",
       "      <td>St. John's</td>\n",
       "    </tr>\n",
       "    <tr>\n",
       "      <th>4</th>\n",
       "      <td>Anguilla</td>\n",
       "      <td>The Valley</td>\n",
       "    </tr>\n",
       "    <tr>\n",
       "      <th>...</th>\n",
       "      <td>...</td>\n",
       "      <td>...</td>\n",
       "    </tr>\n",
       "    <tr>\n",
       "      <th>245</th>\n",
       "      <td>Yemen</td>\n",
       "      <td>Sanaa</td>\n",
       "    </tr>\n",
       "    <tr>\n",
       "      <th>246</th>\n",
       "      <td>Mayotte</td>\n",
       "      <td>Mamoudzou</td>\n",
       "    </tr>\n",
       "    <tr>\n",
       "      <th>247</th>\n",
       "      <td>South Africa</td>\n",
       "      <td>Pretoria</td>\n",
       "    </tr>\n",
       "    <tr>\n",
       "      <th>248</th>\n",
       "      <td>Zambia</td>\n",
       "      <td>Lusaka</td>\n",
       "    </tr>\n",
       "    <tr>\n",
       "      <th>249</th>\n",
       "      <td>Zimbabwe</td>\n",
       "      <td>Harare</td>\n",
       "    </tr>\n",
       "  </tbody>\n",
       "</table>\n",
       "<p>250 rows × 2 columns</p>\n",
       "</div>"
      ],
      "text/plain": [
       "                  country           capital\n",
       "0                 Andorra  Andorra la Vella\n",
       "1    United Arab Emirates         Abu Dhabi\n",
       "2             Afghanistan             Kabul\n",
       "3     Antigua and Barbuda        St. John's\n",
       "4                Anguilla        The Valley\n",
       "..                    ...               ...\n",
       "245                 Yemen             Sanaa\n",
       "246               Mayotte         Mamoudzou\n",
       "247          South Africa          Pretoria\n",
       "248                Zambia            Lusaka\n",
       "249              Zimbabwe            Harare\n",
       "\n",
       "[250 rows x 2 columns]"
      ]
     },
     "execution_count": 25,
     "metadata": {},
     "output_type": "execute_result"
    }
   ],
   "source": [
    "DF['capital']=result\n",
    "DF['capital'] = DF['capital'].apply(lambda x: x.text)\n",
    "DF"
   ]
  },
  {
   "cell_type": "markdown",
   "id": "e89e9aa7-957a-4c03-9c2e-0909dcc9bb59",
   "metadata": {},
   "source": [
    "### Your turn to try this!\n",
    "\n",
    "**Q3** Now it's your turn. See if you can write code that gets the population and area information into the data frame. See if you can make your example match what I get below, including having the correct data types. Population should be an int and area should be a float.\n",
    "\n",
    "Your goal is to get a data frame that looks like the one in lecture with columns for country, capital, population, and area!\n",
    "\n",
    "**Q3** I first added a code to add the 'population' coulmn into the data frame then I added a different code to add the 'area' column into the data frame. The data types for the data in the 'population' column were originally listed as \"object\" so after I already added the column into the data frame I applied a lambda that converted that string into an int. I repeated the same steps to the 'area' column since the data types were also originally listed as \"object\" but when I applied the lmabda I converted the data into float instead of an int."
   ]
  },
  {
   "cell_type": "code",
   "execution_count": 27,
   "id": "4a853fd4-544c-41c3-917c-d2b0e97f2b9d",
   "metadata": {},
   "outputs": [],
   "source": [
    "result = soup.find_all('span',class_=\"country-population\")"
   ]
  },
  {
   "cell_type": "code",
   "execution_count": 28,
   "id": "54054db8-d124-409a-ab6e-cc94a16c0313",
   "metadata": {},
   "outputs": [],
   "source": [
    "#easier way\n",
    "#int(result[0].text)"
   ]
  },
  {
   "cell_type": "code",
   "execution_count": 29,
   "id": "1b17b4bc-5a33-490b-98ea-3f712927a0c4",
   "metadata": {},
   "outputs": [
    {
     "data": {
      "text/html": [
       "<div>\n",
       "<style scoped>\n",
       "    .dataframe tbody tr th:only-of-type {\n",
       "        vertical-align: middle;\n",
       "    }\n",
       "\n",
       "    .dataframe tbody tr th {\n",
       "        vertical-align: top;\n",
       "    }\n",
       "\n",
       "    .dataframe thead th {\n",
       "        text-align: right;\n",
       "    }\n",
       "</style>\n",
       "<table border=\"1\" class=\"dataframe\">\n",
       "  <thead>\n",
       "    <tr style=\"text-align: right;\">\n",
       "      <th></th>\n",
       "      <th>country</th>\n",
       "      <th>capital</th>\n",
       "      <th>population</th>\n",
       "    </tr>\n",
       "  </thead>\n",
       "  <tbody>\n",
       "    <tr>\n",
       "      <th>0</th>\n",
       "      <td>Andorra</td>\n",
       "      <td>Andorra la Vella</td>\n",
       "      <td>84000</td>\n",
       "    </tr>\n",
       "    <tr>\n",
       "      <th>1</th>\n",
       "      <td>United Arab Emirates</td>\n",
       "      <td>Abu Dhabi</td>\n",
       "      <td>4975593</td>\n",
       "    </tr>\n",
       "    <tr>\n",
       "      <th>2</th>\n",
       "      <td>Afghanistan</td>\n",
       "      <td>Kabul</td>\n",
       "      <td>29121286</td>\n",
       "    </tr>\n",
       "    <tr>\n",
       "      <th>3</th>\n",
       "      <td>Antigua and Barbuda</td>\n",
       "      <td>St. John's</td>\n",
       "      <td>86754</td>\n",
       "    </tr>\n",
       "    <tr>\n",
       "      <th>4</th>\n",
       "      <td>Anguilla</td>\n",
       "      <td>The Valley</td>\n",
       "      <td>13254</td>\n",
       "    </tr>\n",
       "    <tr>\n",
       "      <th>...</th>\n",
       "      <td>...</td>\n",
       "      <td>...</td>\n",
       "      <td>...</td>\n",
       "    </tr>\n",
       "    <tr>\n",
       "      <th>245</th>\n",
       "      <td>Yemen</td>\n",
       "      <td>Sanaa</td>\n",
       "      <td>23495361</td>\n",
       "    </tr>\n",
       "    <tr>\n",
       "      <th>246</th>\n",
       "      <td>Mayotte</td>\n",
       "      <td>Mamoudzou</td>\n",
       "      <td>159042</td>\n",
       "    </tr>\n",
       "    <tr>\n",
       "      <th>247</th>\n",
       "      <td>South Africa</td>\n",
       "      <td>Pretoria</td>\n",
       "      <td>49000000</td>\n",
       "    </tr>\n",
       "    <tr>\n",
       "      <th>248</th>\n",
       "      <td>Zambia</td>\n",
       "      <td>Lusaka</td>\n",
       "      <td>13460305</td>\n",
       "    </tr>\n",
       "    <tr>\n",
       "      <th>249</th>\n",
       "      <td>Zimbabwe</td>\n",
       "      <td>Harare</td>\n",
       "      <td>11651858</td>\n",
       "    </tr>\n",
       "  </tbody>\n",
       "</table>\n",
       "<p>250 rows × 3 columns</p>\n",
       "</div>"
      ],
      "text/plain": [
       "                  country           capital population\n",
       "0                 Andorra  Andorra la Vella      84000\n",
       "1    United Arab Emirates         Abu Dhabi    4975593\n",
       "2             Afghanistan             Kabul   29121286\n",
       "3     Antigua and Barbuda        St. John's      86754\n",
       "4                Anguilla        The Valley      13254\n",
       "..                    ...               ...        ...\n",
       "245                 Yemen             Sanaa   23495361\n",
       "246               Mayotte         Mamoudzou     159042\n",
       "247          South Africa          Pretoria   49000000\n",
       "248                Zambia            Lusaka   13460305\n",
       "249              Zimbabwe            Harare   11651858\n",
       "\n",
       "[250 rows x 3 columns]"
      ]
     },
     "execution_count": 29,
     "metadata": {},
     "output_type": "execute_result"
    }
   ],
   "source": [
    "DF['population']=result\n",
    "DF['population'] = DF['population'].apply(lambda x: x.text)\n",
    "DF\n",
    "#would've been .apply(lambda x: int(x.text))"
   ]
  },
  {
   "cell_type": "code",
   "execution_count": 30,
   "id": "0c8bf650-9ba6-4ca8-9f15-77ccea6d3e86",
   "metadata": {},
   "outputs": [],
   "source": [
    "DF['population'] = DF['population'].apply(lambda x: int(x))\n",
    "#DF_raw['country-population'].value_counts().reset_index().rename(columns={\"index\": \"value\", 0: \"count\"})"
   ]
  },
  {
   "cell_type": "code",
   "execution_count": 31,
   "id": "972c9651-fd11-426b-976d-67a13613aab0",
   "metadata": {},
   "outputs": [],
   "source": [
    "result = soup.find_all('span',class_=\"country-area\")"
   ]
  },
  {
   "cell_type": "code",
   "execution_count": 32,
   "id": "74f5431c-5a73-478e-bd45-d0a34854440d",
   "metadata": {},
   "outputs": [
    {
     "data": {
      "text/html": [
       "<div>\n",
       "<style scoped>\n",
       "    .dataframe tbody tr th:only-of-type {\n",
       "        vertical-align: middle;\n",
       "    }\n",
       "\n",
       "    .dataframe tbody tr th {\n",
       "        vertical-align: top;\n",
       "    }\n",
       "\n",
       "    .dataframe thead th {\n",
       "        text-align: right;\n",
       "    }\n",
       "</style>\n",
       "<table border=\"1\" class=\"dataframe\">\n",
       "  <thead>\n",
       "    <tr style=\"text-align: right;\">\n",
       "      <th></th>\n",
       "      <th>country</th>\n",
       "      <th>capital</th>\n",
       "      <th>population</th>\n",
       "      <th>area</th>\n",
       "    </tr>\n",
       "  </thead>\n",
       "  <tbody>\n",
       "    <tr>\n",
       "      <th>0</th>\n",
       "      <td>Andorra</td>\n",
       "      <td>Andorra la Vella</td>\n",
       "      <td>84000</td>\n",
       "      <td>468.0</td>\n",
       "    </tr>\n",
       "    <tr>\n",
       "      <th>1</th>\n",
       "      <td>United Arab Emirates</td>\n",
       "      <td>Abu Dhabi</td>\n",
       "      <td>4975593</td>\n",
       "      <td>82880.0</td>\n",
       "    </tr>\n",
       "    <tr>\n",
       "      <th>2</th>\n",
       "      <td>Afghanistan</td>\n",
       "      <td>Kabul</td>\n",
       "      <td>29121286</td>\n",
       "      <td>647500.0</td>\n",
       "    </tr>\n",
       "    <tr>\n",
       "      <th>3</th>\n",
       "      <td>Antigua and Barbuda</td>\n",
       "      <td>St. John's</td>\n",
       "      <td>86754</td>\n",
       "      <td>443.0</td>\n",
       "    </tr>\n",
       "    <tr>\n",
       "      <th>4</th>\n",
       "      <td>Anguilla</td>\n",
       "      <td>The Valley</td>\n",
       "      <td>13254</td>\n",
       "      <td>102.0</td>\n",
       "    </tr>\n",
       "    <tr>\n",
       "      <th>...</th>\n",
       "      <td>...</td>\n",
       "      <td>...</td>\n",
       "      <td>...</td>\n",
       "      <td>...</td>\n",
       "    </tr>\n",
       "    <tr>\n",
       "      <th>245</th>\n",
       "      <td>Yemen</td>\n",
       "      <td>Sanaa</td>\n",
       "      <td>23495361</td>\n",
       "      <td>527970.0</td>\n",
       "    </tr>\n",
       "    <tr>\n",
       "      <th>246</th>\n",
       "      <td>Mayotte</td>\n",
       "      <td>Mamoudzou</td>\n",
       "      <td>159042</td>\n",
       "      <td>374.0</td>\n",
       "    </tr>\n",
       "    <tr>\n",
       "      <th>247</th>\n",
       "      <td>South Africa</td>\n",
       "      <td>Pretoria</td>\n",
       "      <td>49000000</td>\n",
       "      <td>1219912.0</td>\n",
       "    </tr>\n",
       "    <tr>\n",
       "      <th>248</th>\n",
       "      <td>Zambia</td>\n",
       "      <td>Lusaka</td>\n",
       "      <td>13460305</td>\n",
       "      <td>752614.0</td>\n",
       "    </tr>\n",
       "    <tr>\n",
       "      <th>249</th>\n",
       "      <td>Zimbabwe</td>\n",
       "      <td>Harare</td>\n",
       "      <td>11651858</td>\n",
       "      <td>390580.0</td>\n",
       "    </tr>\n",
       "  </tbody>\n",
       "</table>\n",
       "<p>250 rows × 4 columns</p>\n",
       "</div>"
      ],
      "text/plain": [
       "                  country           capital  population       area\n",
       "0                 Andorra  Andorra la Vella       84000      468.0\n",
       "1    United Arab Emirates         Abu Dhabi     4975593    82880.0\n",
       "2             Afghanistan             Kabul    29121286   647500.0\n",
       "3     Antigua and Barbuda        St. John's       86754      443.0\n",
       "4                Anguilla        The Valley       13254      102.0\n",
       "..                    ...               ...         ...        ...\n",
       "245                 Yemen             Sanaa    23495361   527970.0\n",
       "246               Mayotte         Mamoudzou      159042      374.0\n",
       "247          South Africa          Pretoria    49000000  1219912.0\n",
       "248                Zambia            Lusaka    13460305   752614.0\n",
       "249              Zimbabwe            Harare    11651858   390580.0\n",
       "\n",
       "[250 rows x 4 columns]"
      ]
     },
     "execution_count": 32,
     "metadata": {},
     "output_type": "execute_result"
    }
   ],
   "source": [
    "DF['area']=result\n",
    "DF['area'] = DF['area'].apply(lambda x: x.text)\n",
    "DF"
   ]
  },
  {
   "cell_type": "code",
   "execution_count": 33,
   "id": "da6ac21d-fbb5-4052-8a70-d1a92254368d",
   "metadata": {},
   "outputs": [],
   "source": [
    "DF['area'] = DF['area'].apply(lambda x: float(x))"
   ]
  },
  {
   "cell_type": "code",
   "execution_count": 34,
   "id": "53e85095-689e-49aa-8171-6f0dc7b0e250",
   "metadata": {},
   "outputs": [
    {
     "data": {
      "text/plain": [
       "country        object\n",
       "capital        object\n",
       "population      int64\n",
       "area          float64\n",
       "dtype: object"
      ]
     },
     "execution_count": 34,
     "metadata": {},
     "output_type": "execute_result"
    }
   ],
   "source": [
    "DF.dtypes"
   ]
  },
  {
   "cell_type": "markdown",
   "id": "176e1115-9454-41ae-92fb-c65426fb2fd4",
   "metadata": {},
   "source": [
    "### Where can you get more practice\n",
    "\n",
    "Here is a website dedicated to allowing students to practice webscraping:\n",
    "\n",
    "[www.scrapethissite.com](https://www.scrapethissite.com/pages/)\n",
    "\n",
    "-----------------\n",
    "### Exercise 1:\n",
    "\n",
    "We are going to scrape the site above to get the list of all links. \n",
    "\n",
    "Open the website and look at the developer tools.\n",
    "\n",
    "Here is our goal: Make a pandas data frame that contains three columns: \n",
    "\n",
    "* \"site_name\" - which contains just the words of the link\n",
    "* \"link\" - which contains just the website part of the link\n",
    "* \"description\" - which contains the words below the link\n",
    "\n",
    "When looking for links you can use\n",
    "\n",
    "    result = soup.find_all('a')\n",
    "    result[0].text # Get the text associated with the link\n",
    "    result[0].get('href') # Get the link location\n",
    "\n",
    "\n",
    "\n",
    "See if you can do this without looking at my code in the notes! What would your plan have to be?\n",
    "\n",
    "**See the lecture notes for hints and the solution!**\n"
   ]
  },
  {
   "cell_type": "code",
   "execution_count": 182,
   "id": "19d82bb4-a427-4a23-9c0c-6cb2c1ee7d07",
   "metadata": {},
   "outputs": [],
   "source": [
    "my_website = \"https://www.scrapethissite.com/pages/\"\n",
    "#DF = pd.read_html(my_website) what I thought but is actually:\n",
    "#Get the soup\n",
    "raw_code = requests.get(my_website)\n",
    "html_doc = raw_code.text\n",
    "soup = BeautifulSoup(html_doc, 'html.parser')"
   ]
  },
  {
   "cell_type": "code",
   "execution_count": 184,
   "id": "917fbe30-ef50-49f9-a2bb-677e68f5730e",
   "metadata": {},
   "outputs": [
    {
     "data": {
      "text/plain": [
       "'/lessons/'"
      ]
     },
     "execution_count": 184,
     "metadata": {},
     "output_type": "execute_result"
    }
   ],
   "source": [
    "# Search the soup for links\n",
    "result = soup.find_all('a')\n",
    "result[2].get('href')"
   ]
  },
  {
   "cell_type": "code",
   "execution_count": 198,
   "id": "ca9c394b-7265-4a8a-a41d-cc1d461b9415",
   "metadata": {},
   "outputs": [
    {
     "data": {
      "text/html": [
       "<div>\n",
       "<style scoped>\n",
       "    .dataframe tbody tr th:only-of-type {\n",
       "        vertical-align: middle;\n",
       "    }\n",
       "\n",
       "    .dataframe tbody tr th {\n",
       "        vertical-align: top;\n",
       "    }\n",
       "\n",
       "    .dataframe thead th {\n",
       "        text-align: right;\n",
       "    }\n",
       "</style>\n",
       "<table border=\"1\" class=\"dataframe\">\n",
       "  <thead>\n",
       "    <tr style=\"text-align: right;\">\n",
       "      <th></th>\n",
       "      <th>site</th>\n",
       "    </tr>\n",
       "  </thead>\n",
       "  <tbody>\n",
       "    <tr>\n",
       "      <th>0</th>\n",
       "      <td>Scrape This Site</td>\n",
       "    </tr>\n",
       "    <tr>\n",
       "      <th>1</th>\n",
       "      <td>Sandbox</td>\n",
       "    </tr>\n",
       "    <tr>\n",
       "      <th>2</th>\n",
       "      <td>Lessons</td>\n",
       "    </tr>\n",
       "    <tr>\n",
       "      <th>3</th>\n",
       "      <td>FAQ</td>\n",
       "    </tr>\n",
       "    <tr>\n",
       "      <th>4</th>\n",
       "      <td>Login</td>\n",
       "    </tr>\n",
       "    <tr>\n",
       "      <th>5</th>\n",
       "      <td>Countries of the World: A Simple Example</td>\n",
       "    </tr>\n",
       "    <tr>\n",
       "      <th>6</th>\n",
       "      <td>Hockey Teams: Forms, Searching and Pagination</td>\n",
       "    </tr>\n",
       "    <tr>\n",
       "      <th>7</th>\n",
       "      <td>Oscar Winning Films: AJAX and Javascript</td>\n",
       "    </tr>\n",
       "    <tr>\n",
       "      <th>8</th>\n",
       "      <td>Turtles All the Way Down: Frames &amp; iFrames</td>\n",
       "    </tr>\n",
       "    <tr>\n",
       "      <th>9</th>\n",
       "      <td>Advanced Topics: Real World Challenges You'll ...</td>\n",
       "    </tr>\n",
       "  </tbody>\n",
       "</table>\n",
       "</div>"
      ],
      "text/plain": [
       "                                                site\n",
       "0                                   Scrape This Site\n",
       "1                                            Sandbox\n",
       "2                                            Lessons\n",
       "3                                                FAQ\n",
       "4                                              Login\n",
       "5           Countries of the World: A Simple Example\n",
       "6      Hockey Teams: Forms, Searching and Pagination\n",
       "7           Oscar Winning Films: AJAX and Javascript\n",
       "8         Turtles All the Way Down: Frames & iFrames\n",
       "9  Advanced Topics: Real World Challenges You'll ..."
      ]
     },
     "execution_count": 198,
     "metadata": {},
     "output_type": "execute_result"
    }
   ],
   "source": [
    "# The first few are from the top of the page not the main content\n",
    "DF = pd.DataFrame()\n",
    "DF['site']=result\n",
    "DF['site'] =DF['site'].apply(lambda x: x.text.rstrip().lstrip())\n",
    "DF"
   ]
  },
  {
   "cell_type": "code",
   "execution_count": 202,
   "id": "f49a669a-a3f1-486e-9f89-5744d20c7a9d",
   "metadata": {},
   "outputs": [
    {
     "data": {
      "text/plain": [
       "'/'"
      ]
     },
     "execution_count": 202,
     "metadata": {},
     "output_type": "execute_result"
    }
   ],
   "source": [
    "result[0].get('href')"
   ]
  },
  {
   "cell_type": "code",
   "execution_count": 204,
   "id": "b27ede60-2253-428a-8393-0432049cbf46",
   "metadata": {},
   "outputs": [
    {
     "data": {
      "text/html": [
       "<div>\n",
       "<style scoped>\n",
       "    .dataframe tbody tr th:only-of-type {\n",
       "        vertical-align: middle;\n",
       "    }\n",
       "\n",
       "    .dataframe tbody tr th {\n",
       "        vertical-align: top;\n",
       "    }\n",
       "\n",
       "    .dataframe thead th {\n",
       "        text-align: right;\n",
       "    }\n",
       "</style>\n",
       "<table border=\"1\" class=\"dataframe\">\n",
       "  <thead>\n",
       "    <tr style=\"text-align: right;\">\n",
       "      <th></th>\n",
       "      <th>site</th>\n",
       "      <th>link</th>\n",
       "    </tr>\n",
       "  </thead>\n",
       "  <tbody>\n",
       "    <tr>\n",
       "      <th>0</th>\n",
       "      <td>Scrape This Site</td>\n",
       "      <td>/</td>\n",
       "    </tr>\n",
       "    <tr>\n",
       "      <th>1</th>\n",
       "      <td>Sandbox</td>\n",
       "      <td>/pages/</td>\n",
       "    </tr>\n",
       "    <tr>\n",
       "      <th>2</th>\n",
       "      <td>Lessons</td>\n",
       "      <td>/lessons/</td>\n",
       "    </tr>\n",
       "    <tr>\n",
       "      <th>3</th>\n",
       "      <td>FAQ</td>\n",
       "      <td>/faq/</td>\n",
       "    </tr>\n",
       "    <tr>\n",
       "      <th>4</th>\n",
       "      <td>Login</td>\n",
       "      <td>/login/</td>\n",
       "    </tr>\n",
       "    <tr>\n",
       "      <th>5</th>\n",
       "      <td>Countries of the World: A Simple Example</td>\n",
       "      <td>/pages/simple/</td>\n",
       "    </tr>\n",
       "    <tr>\n",
       "      <th>6</th>\n",
       "      <td>Hockey Teams: Forms, Searching and Pagination</td>\n",
       "      <td>/pages/forms/</td>\n",
       "    </tr>\n",
       "    <tr>\n",
       "      <th>7</th>\n",
       "      <td>Oscar Winning Films: AJAX and Javascript</td>\n",
       "      <td>/pages/ajax-javascript/</td>\n",
       "    </tr>\n",
       "    <tr>\n",
       "      <th>8</th>\n",
       "      <td>Turtles All the Way Down: Frames &amp; iFrames</td>\n",
       "      <td>/pages/frames/</td>\n",
       "    </tr>\n",
       "    <tr>\n",
       "      <th>9</th>\n",
       "      <td>Advanced Topics: Real World Challenges You'll ...</td>\n",
       "      <td>/pages/advanced/</td>\n",
       "    </tr>\n",
       "  </tbody>\n",
       "</table>\n",
       "</div>"
      ],
      "text/plain": [
       "                                                site                     link\n",
       "0                                   Scrape This Site                        /\n",
       "1                                            Sandbox                  /pages/\n",
       "2                                            Lessons                /lessons/\n",
       "3                                                FAQ                    /faq/\n",
       "4                                              Login                  /login/\n",
       "5           Countries of the World: A Simple Example           /pages/simple/\n",
       "6      Hockey Teams: Forms, Searching and Pagination            /pages/forms/\n",
       "7           Oscar Winning Films: AJAX and Javascript  /pages/ajax-javascript/\n",
       "8         Turtles All the Way Down: Frames & iFrames           /pages/frames/\n",
       "9  Advanced Topics: Real World Challenges You'll ...         /pages/advanced/"
      ]
     },
     "execution_count": 204,
     "metadata": {},
     "output_type": "execute_result"
    }
   ],
   "source": [
    "DF['link']=result\n",
    "DF['link']=DF['link'].apply(lambda x: x.get('href'))\n",
    "DF"
   ]
  },
  {
   "cell_type": "code",
   "execution_count": 206,
   "id": "6aaaa32f-ecdc-44aa-a3b8-e2269177fb38",
   "metadata": {},
   "outputs": [
    {
     "data": {
      "text/html": [
       "<div>\n",
       "<style scoped>\n",
       "    .dataframe tbody tr th:only-of-type {\n",
       "        vertical-align: middle;\n",
       "    }\n",
       "\n",
       "    .dataframe tbody tr th {\n",
       "        vertical-align: top;\n",
       "    }\n",
       "\n",
       "    .dataframe thead th {\n",
       "        text-align: right;\n",
       "    }\n",
       "</style>\n",
       "<table border=\"1\" class=\"dataframe\">\n",
       "  <thead>\n",
       "    <tr style=\"text-align: right;\">\n",
       "      <th></th>\n",
       "      <th>site</th>\n",
       "      <th>link</th>\n",
       "    </tr>\n",
       "  </thead>\n",
       "  <tbody>\n",
       "    <tr>\n",
       "      <th>0</th>\n",
       "      <td>Scrape This Site</td>\n",
       "      <td>https://www.scrapethissite.com/</td>\n",
       "    </tr>\n",
       "    <tr>\n",
       "      <th>1</th>\n",
       "      <td>Sandbox</td>\n",
       "      <td>https://www.scrapethissite.com/pages/</td>\n",
       "    </tr>\n",
       "    <tr>\n",
       "      <th>2</th>\n",
       "      <td>Lessons</td>\n",
       "      <td>https://www.scrapethissite.com/lessons/</td>\n",
       "    </tr>\n",
       "    <tr>\n",
       "      <th>3</th>\n",
       "      <td>FAQ</td>\n",
       "      <td>https://www.scrapethissite.com/faq/</td>\n",
       "    </tr>\n",
       "    <tr>\n",
       "      <th>4</th>\n",
       "      <td>Login</td>\n",
       "      <td>https://www.scrapethissite.com/login/</td>\n",
       "    </tr>\n",
       "    <tr>\n",
       "      <th>5</th>\n",
       "      <td>Countries of the World: A Simple Example</td>\n",
       "      <td>https://www.scrapethissite.com/pages/simple/</td>\n",
       "    </tr>\n",
       "    <tr>\n",
       "      <th>6</th>\n",
       "      <td>Hockey Teams: Forms, Searching and Pagination</td>\n",
       "      <td>https://www.scrapethissite.com/pages/forms/</td>\n",
       "    </tr>\n",
       "    <tr>\n",
       "      <th>7</th>\n",
       "      <td>Oscar Winning Films: AJAX and Javascript</td>\n",
       "      <td>https://www.scrapethissite.com/pages/ajax-java...</td>\n",
       "    </tr>\n",
       "    <tr>\n",
       "      <th>8</th>\n",
       "      <td>Turtles All the Way Down: Frames &amp; iFrames</td>\n",
       "      <td>https://www.scrapethissite.com/pages/frames/</td>\n",
       "    </tr>\n",
       "    <tr>\n",
       "      <th>9</th>\n",
       "      <td>Advanced Topics: Real World Challenges You'll ...</td>\n",
       "      <td>https://www.scrapethissite.com/pages/advanced/</td>\n",
       "    </tr>\n",
       "  </tbody>\n",
       "</table>\n",
       "</div>"
      ],
      "text/plain": [
       "                                                site  \\\n",
       "0                                   Scrape This Site   \n",
       "1                                            Sandbox   \n",
       "2                                            Lessons   \n",
       "3                                                FAQ   \n",
       "4                                              Login   \n",
       "5           Countries of the World: A Simple Example   \n",
       "6      Hockey Teams: Forms, Searching and Pagination   \n",
       "7           Oscar Winning Films: AJAX and Javascript   \n",
       "8         Turtles All the Way Down: Frames & iFrames   \n",
       "9  Advanced Topics: Real World Challenges You'll ...   \n",
       "\n",
       "                                                link  \n",
       "0                    https://www.scrapethissite.com/  \n",
       "1              https://www.scrapethissite.com/pages/  \n",
       "2            https://www.scrapethissite.com/lessons/  \n",
       "3                https://www.scrapethissite.com/faq/  \n",
       "4              https://www.scrapethissite.com/login/  \n",
       "5       https://www.scrapethissite.com/pages/simple/  \n",
       "6        https://www.scrapethissite.com/pages/forms/  \n",
       "7  https://www.scrapethissite.com/pages/ajax-java...  \n",
       "8       https://www.scrapethissite.com/pages/frames/  \n",
       "9     https://www.scrapethissite.com/pages/advanced/  "
      ]
     },
     "execution_count": 206,
     "metadata": {},
     "output_type": "execute_result"
    }
   ],
   "source": [
    "# EXTRA - lets add the base website info\n",
    "base_website = 'https://www.scrapethissite.com'\n",
    "DF['link'] = DF['link'].apply(lambda x: base_website+x)\n",
    "DF"
   ]
  },
  {
   "cell_type": "code",
   "execution_count": 208,
   "id": "57a86173-26c6-439c-8e91-e9849454657d",
   "metadata": {},
   "outputs": [
    {
     "data": {
      "text/html": [
       "<div>\n",
       "<style scoped>\n",
       "    .dataframe tbody tr th:only-of-type {\n",
       "        vertical-align: middle;\n",
       "    }\n",
       "\n",
       "    .dataframe tbody tr th {\n",
       "        vertical-align: top;\n",
       "    }\n",
       "\n",
       "    .dataframe thead th {\n",
       "        text-align: right;\n",
       "    }\n",
       "</style>\n",
       "<table border=\"1\" class=\"dataframe\">\n",
       "  <thead>\n",
       "    <tr style=\"text-align: right;\">\n",
       "      <th></th>\n",
       "      <th>site</th>\n",
       "      <th>link</th>\n",
       "    </tr>\n",
       "  </thead>\n",
       "  <tbody>\n",
       "    <tr>\n",
       "      <th>5</th>\n",
       "      <td>Countries of the World: A Simple Example</td>\n",
       "      <td>https://www.scrapethissite.com/pages/simple/</td>\n",
       "    </tr>\n",
       "    <tr>\n",
       "      <th>6</th>\n",
       "      <td>Hockey Teams: Forms, Searching and Pagination</td>\n",
       "      <td>https://www.scrapethissite.com/pages/forms/</td>\n",
       "    </tr>\n",
       "    <tr>\n",
       "      <th>7</th>\n",
       "      <td>Oscar Winning Films: AJAX and Javascript</td>\n",
       "      <td>https://www.scrapethissite.com/pages/ajax-java...</td>\n",
       "    </tr>\n",
       "    <tr>\n",
       "      <th>8</th>\n",
       "      <td>Turtles All the Way Down: Frames &amp; iFrames</td>\n",
       "      <td>https://www.scrapethissite.com/pages/frames/</td>\n",
       "    </tr>\n",
       "    <tr>\n",
       "      <th>9</th>\n",
       "      <td>Advanced Topics: Real World Challenges You'll ...</td>\n",
       "      <td>https://www.scrapethissite.com/pages/advanced/</td>\n",
       "    </tr>\n",
       "  </tbody>\n",
       "</table>\n",
       "</div>"
      ],
      "text/plain": [
       "                                                site  \\\n",
       "5           Countries of the World: A Simple Example   \n",
       "6      Hockey Teams: Forms, Searching and Pagination   \n",
       "7           Oscar Winning Films: AJAX and Javascript   \n",
       "8         Turtles All the Way Down: Frames & iFrames   \n",
       "9  Advanced Topics: Real World Challenges You'll ...   \n",
       "\n",
       "                                                link  \n",
       "5       https://www.scrapethissite.com/pages/simple/  \n",
       "6        https://www.scrapethissite.com/pages/forms/  \n",
       "7  https://www.scrapethissite.com/pages/ajax-java...  \n",
       "8       https://www.scrapethissite.com/pages/frames/  \n",
       "9     https://www.scrapethissite.com/pages/advanced/  "
      ]
     },
     "execution_count": 208,
     "metadata": {},
     "output_type": "execute_result"
    }
   ],
   "source": [
    "# Remove the top few links\n",
    "DF = DF.drop([0,1,2,3,4])\n",
    "DF"
   ]
  },
  {
   "cell_type": "markdown",
   "id": "dfdf3e54-f88b-4de2-a7d8-d3b62b6430ac",
   "metadata": {},
   "source": [
    "I need to drop the first 5 rows are the length of values will not match the length of index."
   ]
  },
  {
   "cell_type": "code",
   "execution_count": 221,
   "id": "1c98e656-1f09-4d8d-9450-2eff765093a6",
   "metadata": {},
   "outputs": [
    {
     "data": {
      "text/plain": [
       "'A single page that lists information about all the countries in the world. Good for those just get started with web scraping.'"
      ]
     },
     "execution_count": 221,
     "metadata": {},
     "output_type": "execute_result"
    }
   ],
   "source": [
    "result = soup.find_all('p',class_=\"lead session-desc\")\n",
    "result[0].text.lstrip().rstrip()"
   ]
  },
  {
   "cell_type": "code",
   "execution_count": 223,
   "id": "ba6f0ada-b834-451c-ab44-675d6639b779",
   "metadata": {},
   "outputs": [
    {
     "data": {
      "text/html": [
       "<div>\n",
       "<style scoped>\n",
       "    .dataframe tbody tr th:only-of-type {\n",
       "        vertical-align: middle;\n",
       "    }\n",
       "\n",
       "    .dataframe tbody tr th {\n",
       "        vertical-align: top;\n",
       "    }\n",
       "\n",
       "    .dataframe thead th {\n",
       "        text-align: right;\n",
       "    }\n",
       "</style>\n",
       "<table border=\"1\" class=\"dataframe\">\n",
       "  <thead>\n",
       "    <tr style=\"text-align: right;\">\n",
       "      <th></th>\n",
       "      <th>site</th>\n",
       "      <th>link</th>\n",
       "      <th>description</th>\n",
       "    </tr>\n",
       "  </thead>\n",
       "  <tbody>\n",
       "    <tr>\n",
       "      <th>5</th>\n",
       "      <td>Countries of the World: A Simple Example</td>\n",
       "      <td>https://www.scrapethissite.com/pages/simple/</td>\n",
       "      <td>A single page that lists information about all...</td>\n",
       "    </tr>\n",
       "    <tr>\n",
       "      <th>6</th>\n",
       "      <td>Hockey Teams: Forms, Searching and Pagination</td>\n",
       "      <td>https://www.scrapethissite.com/pages/forms/</td>\n",
       "      <td>Browse through a database of NHL team stats si...</td>\n",
       "    </tr>\n",
       "    <tr>\n",
       "      <th>7</th>\n",
       "      <td>Oscar Winning Films: AJAX and Javascript</td>\n",
       "      <td>https://www.scrapethissite.com/pages/ajax-java...</td>\n",
       "      <td>Click through a bunch of great films. Learn ho...</td>\n",
       "    </tr>\n",
       "    <tr>\n",
       "      <th>8</th>\n",
       "      <td>Turtles All the Way Down: Frames &amp; iFrames</td>\n",
       "      <td>https://www.scrapethissite.com/pages/frames/</td>\n",
       "      <td>Some older sites might still use frames to bre...</td>\n",
       "    </tr>\n",
       "    <tr>\n",
       "      <th>9</th>\n",
       "      <td>Advanced Topics: Real World Challenges You'll ...</td>\n",
       "      <td>https://www.scrapethissite.com/pages/advanced/</td>\n",
       "      <td>Scraping real websites, you're likely run into...</td>\n",
       "    </tr>\n",
       "  </tbody>\n",
       "</table>\n",
       "</div>"
      ],
      "text/plain": [
       "                                                site  \\\n",
       "5           Countries of the World: A Simple Example   \n",
       "6      Hockey Teams: Forms, Searching and Pagination   \n",
       "7           Oscar Winning Films: AJAX and Javascript   \n",
       "8         Turtles All the Way Down: Frames & iFrames   \n",
       "9  Advanced Topics: Real World Challenges You'll ...   \n",
       "\n",
       "                                                link  \\\n",
       "5       https://www.scrapethissite.com/pages/simple/   \n",
       "6        https://www.scrapethissite.com/pages/forms/   \n",
       "7  https://www.scrapethissite.com/pages/ajax-java...   \n",
       "8       https://www.scrapethissite.com/pages/frames/   \n",
       "9     https://www.scrapethissite.com/pages/advanced/   \n",
       "\n",
       "                                         description  \n",
       "5  A single page that lists information about all...  \n",
       "6  Browse through a database of NHL team stats si...  \n",
       "7  Click through a bunch of great films. Learn ho...  \n",
       "8  Some older sites might still use frames to bre...  \n",
       "9  Scraping real websites, you're likely run into...  "
      ]
     },
     "execution_count": 223,
     "metadata": {},
     "output_type": "execute_result"
    }
   ],
   "source": [
    "DF['description']=result\n",
    "DF['description']=DF['description'].apply(lambda x: x.text.lstrip().rstrip())\n",
    "DF"
   ]
  },
  {
   "cell_type": "markdown",
   "id": "b31f413f-cf91-4010-ab04-7a65bfa706ed",
   "metadata": {},
   "source": [
    "**Exercise 1 Explanation** When scrapping the website to create my own data frame I went one step at a time. Firsty, I created a 'site' column by creating a soup so I could actually scrape the data, than I chose the specific codes for the 'site' variable, and I finally created a data frame using a lambda to fix the data. I repeated the same stpes for the 'link' column but I added a few more steps afterwards. These steps included copying the original website link and adding it to my previous 'link' data to make the new data accurate. Then I got rid of the first 5 rows because they weren't necessary information. Finally, I repeated the original 3 steps for my 'description' column with no additional steps. "
   ]
  },
  {
   "cell_type": "markdown",
   "id": "ccdc8ae8-0880-4abb-a9ef-7d497210ee34",
   "metadata": {},
   "source": [
    "### Challenge Problem\n",
    "\n",
    "Here is another website to scrape. See if you can create a data frame that looks like the one in the lecture notes. Notice that you can only scrape the first page with the first link. \n",
    "\n",
    "If you want to try scraping the other pages you have to notice how the website updates its address for each page. Then write a for loop to loop through how ever many pages you want to scrape. Do the same set of operations for each page keep adding data to your data frame.\n",
    "\n",
    "Make a histogram of your final data."
   ]
  },
  {
   "cell_type": "code",
   "execution_count": 882,
   "id": "267722fb-a33b-4969-82eb-26c94edd0bb6",
   "metadata": {},
   "outputs": [],
   "source": [
    "website='https://books.toscrape.com/index.html'\n",
    "raw_code = requests.get(website)\n",
    "html_doc = raw_code.text\n",
    "soup = BeautifulSoup(html_doc, 'html.parser')"
   ]
  },
  {
   "cell_type": "markdown",
   "id": "09b86c1d-5c13-4178-9685-c09922f4ec2d",
   "metadata": {},
   "source": [
    "**Try to scrape the name, the link to the book, and the prices! I decided to put the name and link information into a single column and then break that apart**"
   ]
  },
  {
   "cell_type": "code",
   "execution_count": 884,
   "id": "429be6b6-4fdc-41e4-a481-c778ac9bc9ca",
   "metadata": {},
   "outputs": [
    {
     "data": {
      "text/plain": [
       "'catalogue/a-light-in-the-attic_1000/index.html'"
      ]
     },
     "execution_count": 884,
     "metadata": {},
     "output_type": "execute_result"
    }
   ],
   "source": [
    "# Search the soup for links\n",
    "result = soup.find_all('h3')\n",
    "result[0].find('a').get('href')\n",
    "#.lstrip().rstrip()"
   ]
  },
  {
   "cell_type": "code",
   "execution_count": 886,
   "id": "08613fec-b6db-44cd-b093-69e43704cef0",
   "metadata": {},
   "outputs": [
    {
     "data": {
      "text/html": [
       "<div>\n",
       "<style scoped>\n",
       "    .dataframe tbody tr th:only-of-type {\n",
       "        vertical-align: middle;\n",
       "    }\n",
       "\n",
       "    .dataframe tbody tr th {\n",
       "        vertical-align: top;\n",
       "    }\n",
       "\n",
       "    .dataframe thead th {\n",
       "        text-align: right;\n",
       "    }\n",
       "</style>\n",
       "<table border=\"1\" class=\"dataframe\">\n",
       "  <thead>\n",
       "    <tr style=\"text-align: right;\">\n",
       "      <th></th>\n",
       "      <th>book_name_link</th>\n",
       "      <th>links</th>\n",
       "      <th>names</th>\n",
       "    </tr>\n",
       "  </thead>\n",
       "  <tbody>\n",
       "    <tr>\n",
       "      <th>0</th>\n",
       "      <td>[[A Light in the ...]]</td>\n",
       "      <td>catalogue/a-light-in-the-attic_1000/index.html</td>\n",
       "      <td>A Light in the ...</td>\n",
       "    </tr>\n",
       "    <tr>\n",
       "      <th>1</th>\n",
       "      <td>[[Tipping the Velvet]]</td>\n",
       "      <td>catalogue/tipping-the-velvet_999/index.html</td>\n",
       "      <td>Tipping the Velvet</td>\n",
       "    </tr>\n",
       "    <tr>\n",
       "      <th>2</th>\n",
       "      <td>[[Soumission]]</td>\n",
       "      <td>catalogue/soumission_998/index.html</td>\n",
       "      <td>Soumission</td>\n",
       "    </tr>\n",
       "    <tr>\n",
       "      <th>3</th>\n",
       "      <td>[[Sharp Objects]]</td>\n",
       "      <td>catalogue/sharp-objects_997/index.html</td>\n",
       "      <td>Sharp Objects</td>\n",
       "    </tr>\n",
       "    <tr>\n",
       "      <th>4</th>\n",
       "      <td>[[Sapiens: A Brief History ...]]</td>\n",
       "      <td>catalogue/sapiens-a-brief-history-of-humankind...</td>\n",
       "      <td>Sapiens: A Brief History ...</td>\n",
       "    </tr>\n",
       "    <tr>\n",
       "      <th>5</th>\n",
       "      <td>[[The Requiem Red]]</td>\n",
       "      <td>catalogue/the-requiem-red_995/index.html</td>\n",
       "      <td>The Requiem Red</td>\n",
       "    </tr>\n",
       "    <tr>\n",
       "      <th>6</th>\n",
       "      <td>[[The Dirty Little Secrets ...]]</td>\n",
       "      <td>catalogue/the-dirty-little-secrets-of-getting-...</td>\n",
       "      <td>The Dirty Little Secrets ...</td>\n",
       "    </tr>\n",
       "    <tr>\n",
       "      <th>7</th>\n",
       "      <td>[[The Coming Woman: A ...]]</td>\n",
       "      <td>catalogue/the-coming-woman-a-novel-based-on-th...</td>\n",
       "      <td>The Coming Woman: A ...</td>\n",
       "    </tr>\n",
       "    <tr>\n",
       "      <th>8</th>\n",
       "      <td>[[The Boys in the ...]]</td>\n",
       "      <td>catalogue/the-boys-in-the-boat-nine-americans-...</td>\n",
       "      <td>The Boys in the ...</td>\n",
       "    </tr>\n",
       "    <tr>\n",
       "      <th>9</th>\n",
       "      <td>[[The Black Maria]]</td>\n",
       "      <td>catalogue/the-black-maria_991/index.html</td>\n",
       "      <td>The Black Maria</td>\n",
       "    </tr>\n",
       "    <tr>\n",
       "      <th>10</th>\n",
       "      <td>[[Starving Hearts (Triangular Trade ...]]</td>\n",
       "      <td>catalogue/starving-hearts-triangular-trade-tri...</td>\n",
       "      <td>Starving Hearts (Triangular Trade ...</td>\n",
       "    </tr>\n",
       "    <tr>\n",
       "      <th>11</th>\n",
       "      <td>[[Shakespeare's Sonnets]]</td>\n",
       "      <td>catalogue/shakespeares-sonnets_989/index.html</td>\n",
       "      <td>Shakespeare's Sonnets</td>\n",
       "    </tr>\n",
       "    <tr>\n",
       "      <th>12</th>\n",
       "      <td>[[Set Me Free]]</td>\n",
       "      <td>catalogue/set-me-free_988/index.html</td>\n",
       "      <td>Set Me Free</td>\n",
       "    </tr>\n",
       "    <tr>\n",
       "      <th>13</th>\n",
       "      <td>[[Scott Pilgrim's Precious Little ...]]</td>\n",
       "      <td>catalogue/scott-pilgrims-precious-little-life-...</td>\n",
       "      <td>Scott Pilgrim's Precious Little ...</td>\n",
       "    </tr>\n",
       "    <tr>\n",
       "      <th>14</th>\n",
       "      <td>[[Rip it Up and ...]]</td>\n",
       "      <td>catalogue/rip-it-up-and-start-again_986/index....</td>\n",
       "      <td>Rip it Up and ...</td>\n",
       "    </tr>\n",
       "    <tr>\n",
       "      <th>15</th>\n",
       "      <td>[[Our Band Could Be ...]]</td>\n",
       "      <td>catalogue/our-band-could-be-your-life-scenes-f...</td>\n",
       "      <td>Our Band Could Be ...</td>\n",
       "    </tr>\n",
       "    <tr>\n",
       "      <th>16</th>\n",
       "      <td>[[Olio]]</td>\n",
       "      <td>catalogue/olio_984/index.html</td>\n",
       "      <td>Olio</td>\n",
       "    </tr>\n",
       "    <tr>\n",
       "      <th>17</th>\n",
       "      <td>[[Mesaerion: The Best Science ...]]</td>\n",
       "      <td>catalogue/mesaerion-the-best-science-fiction-s...</td>\n",
       "      <td>Mesaerion: The Best Science ...</td>\n",
       "    </tr>\n",
       "    <tr>\n",
       "      <th>18</th>\n",
       "      <td>[[Libertarianism for Beginners]]</td>\n",
       "      <td>catalogue/libertarianism-for-beginners_982/ind...</td>\n",
       "      <td>Libertarianism for Beginners</td>\n",
       "    </tr>\n",
       "    <tr>\n",
       "      <th>19</th>\n",
       "      <td>[[It's Only the Himalayas]]</td>\n",
       "      <td>catalogue/its-only-the-himalayas_981/index.html</td>\n",
       "      <td>It's Only the Himalayas</td>\n",
       "    </tr>\n",
       "  </tbody>\n",
       "</table>\n",
       "</div>"
      ],
      "text/plain": [
       "                               book_name_link  \\\n",
       "0                      [[A Light in the ...]]   \n",
       "1                      [[Tipping the Velvet]]   \n",
       "2                              [[Soumission]]   \n",
       "3                           [[Sharp Objects]]   \n",
       "4            [[Sapiens: A Brief History ...]]   \n",
       "5                         [[The Requiem Red]]   \n",
       "6            [[The Dirty Little Secrets ...]]   \n",
       "7                 [[The Coming Woman: A ...]]   \n",
       "8                     [[The Boys in the ...]]   \n",
       "9                         [[The Black Maria]]   \n",
       "10  [[Starving Hearts (Triangular Trade ...]]   \n",
       "11                  [[Shakespeare's Sonnets]]   \n",
       "12                            [[Set Me Free]]   \n",
       "13    [[Scott Pilgrim's Precious Little ...]]   \n",
       "14                      [[Rip it Up and ...]]   \n",
       "15                  [[Our Band Could Be ...]]   \n",
       "16                                   [[Olio]]   \n",
       "17        [[Mesaerion: The Best Science ...]]   \n",
       "18           [[Libertarianism for Beginners]]   \n",
       "19                [[It's Only the Himalayas]]   \n",
       "\n",
       "                                                links  \\\n",
       "0      catalogue/a-light-in-the-attic_1000/index.html   \n",
       "1         catalogue/tipping-the-velvet_999/index.html   \n",
       "2                 catalogue/soumission_998/index.html   \n",
       "3              catalogue/sharp-objects_997/index.html   \n",
       "4   catalogue/sapiens-a-brief-history-of-humankind...   \n",
       "5            catalogue/the-requiem-red_995/index.html   \n",
       "6   catalogue/the-dirty-little-secrets-of-getting-...   \n",
       "7   catalogue/the-coming-woman-a-novel-based-on-th...   \n",
       "8   catalogue/the-boys-in-the-boat-nine-americans-...   \n",
       "9            catalogue/the-black-maria_991/index.html   \n",
       "10  catalogue/starving-hearts-triangular-trade-tri...   \n",
       "11      catalogue/shakespeares-sonnets_989/index.html   \n",
       "12               catalogue/set-me-free_988/index.html   \n",
       "13  catalogue/scott-pilgrims-precious-little-life-...   \n",
       "14  catalogue/rip-it-up-and-start-again_986/index....   \n",
       "15  catalogue/our-band-could-be-your-life-scenes-f...   \n",
       "16                      catalogue/olio_984/index.html   \n",
       "17  catalogue/mesaerion-the-best-science-fiction-s...   \n",
       "18  catalogue/libertarianism-for-beginners_982/ind...   \n",
       "19    catalogue/its-only-the-himalayas_981/index.html   \n",
       "\n",
       "                                    names  \n",
       "0                      A Light in the ...  \n",
       "1                      Tipping the Velvet  \n",
       "2                              Soumission  \n",
       "3                           Sharp Objects  \n",
       "4            Sapiens: A Brief History ...  \n",
       "5                         The Requiem Red  \n",
       "6            The Dirty Little Secrets ...  \n",
       "7                 The Coming Woman: A ...  \n",
       "8                     The Boys in the ...  \n",
       "9                         The Black Maria  \n",
       "10  Starving Hearts (Triangular Trade ...  \n",
       "11                  Shakespeare's Sonnets  \n",
       "12                            Set Me Free  \n",
       "13    Scott Pilgrim's Precious Little ...  \n",
       "14                      Rip it Up and ...  \n",
       "15                  Our Band Could Be ...  \n",
       "16                                   Olio  \n",
       "17        Mesaerion: The Best Science ...  \n",
       "18           Libertarianism for Beginners  \n",
       "19                It's Only the Himalayas  "
      ]
     },
     "execution_count": 886,
     "metadata": {},
     "output_type": "execute_result"
    }
   ],
   "source": [
    "DF = pd.DataFrame()\n",
    "DF['book_name_link'] = result\n",
    "DF['links'] = DF['book_name_link'].apply(lambda x: x.find('a').get('href'))\n",
    "DF['names'] = DF['book_name_link'].apply(lambda x: x.text)\n",
    "                                                  #.text.lstrip().rstrip())\n",
    "DF"
   ]
  },
  {
   "cell_type": "code",
   "execution_count": 888,
   "id": "6b3040e5-2cb2-4b2c-9668-72bd5dc3c2ba",
   "metadata": {},
   "outputs": [
    {
     "data": {
      "text/plain": [
       "51.77"
      ]
     },
     "execution_count": 888,
     "metadata": {},
     "output_type": "execute_result"
    }
   ],
   "source": [
    "result = soup.find_all('p',class_='price_color')\n",
    "float(result[0].text.lstrip().rstrip().replace('Â£',''))\n",
    "#.lstrip().rstrip()"
   ]
  },
  {
   "cell_type": "code",
   "execution_count": 890,
   "id": "1c6e5a85-c331-49f5-9212-2ff35616986e",
   "metadata": {},
   "outputs": [
    {
     "data": {
      "text/html": [
       "<div>\n",
       "<style scoped>\n",
       "    .dataframe tbody tr th:only-of-type {\n",
       "        vertical-align: middle;\n",
       "    }\n",
       "\n",
       "    .dataframe tbody tr th {\n",
       "        vertical-align: top;\n",
       "    }\n",
       "\n",
       "    .dataframe thead th {\n",
       "        text-align: right;\n",
       "    }\n",
       "</style>\n",
       "<table border=\"1\" class=\"dataframe\">\n",
       "  <thead>\n",
       "    <tr style=\"text-align: right;\">\n",
       "      <th></th>\n",
       "      <th>book_name_link</th>\n",
       "      <th>links</th>\n",
       "      <th>names</th>\n",
       "      <th>prices</th>\n",
       "    </tr>\n",
       "  </thead>\n",
       "  <tbody>\n",
       "    <tr>\n",
       "      <th>0</th>\n",
       "      <td>[[A Light in the ...]]</td>\n",
       "      <td>catalogue/a-light-in-the-attic_1000/index.html</td>\n",
       "      <td>A Light in the ...</td>\n",
       "      <td>51.77</td>\n",
       "    </tr>\n",
       "    <tr>\n",
       "      <th>1</th>\n",
       "      <td>[[Tipping the Velvet]]</td>\n",
       "      <td>catalogue/tipping-the-velvet_999/index.html</td>\n",
       "      <td>Tipping the Velvet</td>\n",
       "      <td>53.74</td>\n",
       "    </tr>\n",
       "    <tr>\n",
       "      <th>2</th>\n",
       "      <td>[[Soumission]]</td>\n",
       "      <td>catalogue/soumission_998/index.html</td>\n",
       "      <td>Soumission</td>\n",
       "      <td>50.10</td>\n",
       "    </tr>\n",
       "    <tr>\n",
       "      <th>3</th>\n",
       "      <td>[[Sharp Objects]]</td>\n",
       "      <td>catalogue/sharp-objects_997/index.html</td>\n",
       "      <td>Sharp Objects</td>\n",
       "      <td>47.82</td>\n",
       "    </tr>\n",
       "    <tr>\n",
       "      <th>4</th>\n",
       "      <td>[[Sapiens: A Brief History ...]]</td>\n",
       "      <td>catalogue/sapiens-a-brief-history-of-humankind...</td>\n",
       "      <td>Sapiens: A Brief History ...</td>\n",
       "      <td>54.23</td>\n",
       "    </tr>\n",
       "    <tr>\n",
       "      <th>5</th>\n",
       "      <td>[[The Requiem Red]]</td>\n",
       "      <td>catalogue/the-requiem-red_995/index.html</td>\n",
       "      <td>The Requiem Red</td>\n",
       "      <td>22.65</td>\n",
       "    </tr>\n",
       "    <tr>\n",
       "      <th>6</th>\n",
       "      <td>[[The Dirty Little Secrets ...]]</td>\n",
       "      <td>catalogue/the-dirty-little-secrets-of-getting-...</td>\n",
       "      <td>The Dirty Little Secrets ...</td>\n",
       "      <td>33.34</td>\n",
       "    </tr>\n",
       "    <tr>\n",
       "      <th>7</th>\n",
       "      <td>[[The Coming Woman: A ...]]</td>\n",
       "      <td>catalogue/the-coming-woman-a-novel-based-on-th...</td>\n",
       "      <td>The Coming Woman: A ...</td>\n",
       "      <td>17.93</td>\n",
       "    </tr>\n",
       "    <tr>\n",
       "      <th>8</th>\n",
       "      <td>[[The Boys in the ...]]</td>\n",
       "      <td>catalogue/the-boys-in-the-boat-nine-americans-...</td>\n",
       "      <td>The Boys in the ...</td>\n",
       "      <td>22.60</td>\n",
       "    </tr>\n",
       "    <tr>\n",
       "      <th>9</th>\n",
       "      <td>[[The Black Maria]]</td>\n",
       "      <td>catalogue/the-black-maria_991/index.html</td>\n",
       "      <td>The Black Maria</td>\n",
       "      <td>52.15</td>\n",
       "    </tr>\n",
       "    <tr>\n",
       "      <th>10</th>\n",
       "      <td>[[Starving Hearts (Triangular Trade ...]]</td>\n",
       "      <td>catalogue/starving-hearts-triangular-trade-tri...</td>\n",
       "      <td>Starving Hearts (Triangular Trade ...</td>\n",
       "      <td>13.99</td>\n",
       "    </tr>\n",
       "    <tr>\n",
       "      <th>11</th>\n",
       "      <td>[[Shakespeare's Sonnets]]</td>\n",
       "      <td>catalogue/shakespeares-sonnets_989/index.html</td>\n",
       "      <td>Shakespeare's Sonnets</td>\n",
       "      <td>20.66</td>\n",
       "    </tr>\n",
       "    <tr>\n",
       "      <th>12</th>\n",
       "      <td>[[Set Me Free]]</td>\n",
       "      <td>catalogue/set-me-free_988/index.html</td>\n",
       "      <td>Set Me Free</td>\n",
       "      <td>17.46</td>\n",
       "    </tr>\n",
       "    <tr>\n",
       "      <th>13</th>\n",
       "      <td>[[Scott Pilgrim's Precious Little ...]]</td>\n",
       "      <td>catalogue/scott-pilgrims-precious-little-life-...</td>\n",
       "      <td>Scott Pilgrim's Precious Little ...</td>\n",
       "      <td>52.29</td>\n",
       "    </tr>\n",
       "    <tr>\n",
       "      <th>14</th>\n",
       "      <td>[[Rip it Up and ...]]</td>\n",
       "      <td>catalogue/rip-it-up-and-start-again_986/index....</td>\n",
       "      <td>Rip it Up and ...</td>\n",
       "      <td>35.02</td>\n",
       "    </tr>\n",
       "    <tr>\n",
       "      <th>15</th>\n",
       "      <td>[[Our Band Could Be ...]]</td>\n",
       "      <td>catalogue/our-band-could-be-your-life-scenes-f...</td>\n",
       "      <td>Our Band Could Be ...</td>\n",
       "      <td>57.25</td>\n",
       "    </tr>\n",
       "    <tr>\n",
       "      <th>16</th>\n",
       "      <td>[[Olio]]</td>\n",
       "      <td>catalogue/olio_984/index.html</td>\n",
       "      <td>Olio</td>\n",
       "      <td>23.88</td>\n",
       "    </tr>\n",
       "    <tr>\n",
       "      <th>17</th>\n",
       "      <td>[[Mesaerion: The Best Science ...]]</td>\n",
       "      <td>catalogue/mesaerion-the-best-science-fiction-s...</td>\n",
       "      <td>Mesaerion: The Best Science ...</td>\n",
       "      <td>37.59</td>\n",
       "    </tr>\n",
       "    <tr>\n",
       "      <th>18</th>\n",
       "      <td>[[Libertarianism for Beginners]]</td>\n",
       "      <td>catalogue/libertarianism-for-beginners_982/ind...</td>\n",
       "      <td>Libertarianism for Beginners</td>\n",
       "      <td>51.33</td>\n",
       "    </tr>\n",
       "    <tr>\n",
       "      <th>19</th>\n",
       "      <td>[[It's Only the Himalayas]]</td>\n",
       "      <td>catalogue/its-only-the-himalayas_981/index.html</td>\n",
       "      <td>It's Only the Himalayas</td>\n",
       "      <td>45.17</td>\n",
       "    </tr>\n",
       "  </tbody>\n",
       "</table>\n",
       "</div>"
      ],
      "text/plain": [
       "                               book_name_link  \\\n",
       "0                      [[A Light in the ...]]   \n",
       "1                      [[Tipping the Velvet]]   \n",
       "2                              [[Soumission]]   \n",
       "3                           [[Sharp Objects]]   \n",
       "4            [[Sapiens: A Brief History ...]]   \n",
       "5                         [[The Requiem Red]]   \n",
       "6            [[The Dirty Little Secrets ...]]   \n",
       "7                 [[The Coming Woman: A ...]]   \n",
       "8                     [[The Boys in the ...]]   \n",
       "9                         [[The Black Maria]]   \n",
       "10  [[Starving Hearts (Triangular Trade ...]]   \n",
       "11                  [[Shakespeare's Sonnets]]   \n",
       "12                            [[Set Me Free]]   \n",
       "13    [[Scott Pilgrim's Precious Little ...]]   \n",
       "14                      [[Rip it Up and ...]]   \n",
       "15                  [[Our Band Could Be ...]]   \n",
       "16                                   [[Olio]]   \n",
       "17        [[Mesaerion: The Best Science ...]]   \n",
       "18           [[Libertarianism for Beginners]]   \n",
       "19                [[It's Only the Himalayas]]   \n",
       "\n",
       "                                                links  \\\n",
       "0      catalogue/a-light-in-the-attic_1000/index.html   \n",
       "1         catalogue/tipping-the-velvet_999/index.html   \n",
       "2                 catalogue/soumission_998/index.html   \n",
       "3              catalogue/sharp-objects_997/index.html   \n",
       "4   catalogue/sapiens-a-brief-history-of-humankind...   \n",
       "5            catalogue/the-requiem-red_995/index.html   \n",
       "6   catalogue/the-dirty-little-secrets-of-getting-...   \n",
       "7   catalogue/the-coming-woman-a-novel-based-on-th...   \n",
       "8   catalogue/the-boys-in-the-boat-nine-americans-...   \n",
       "9            catalogue/the-black-maria_991/index.html   \n",
       "10  catalogue/starving-hearts-triangular-trade-tri...   \n",
       "11      catalogue/shakespeares-sonnets_989/index.html   \n",
       "12               catalogue/set-me-free_988/index.html   \n",
       "13  catalogue/scott-pilgrims-precious-little-life-...   \n",
       "14  catalogue/rip-it-up-and-start-again_986/index....   \n",
       "15  catalogue/our-band-could-be-your-life-scenes-f...   \n",
       "16                      catalogue/olio_984/index.html   \n",
       "17  catalogue/mesaerion-the-best-science-fiction-s...   \n",
       "18  catalogue/libertarianism-for-beginners_982/ind...   \n",
       "19    catalogue/its-only-the-himalayas_981/index.html   \n",
       "\n",
       "                                    names  prices  \n",
       "0                      A Light in the ...   51.77  \n",
       "1                      Tipping the Velvet   53.74  \n",
       "2                              Soumission   50.10  \n",
       "3                           Sharp Objects   47.82  \n",
       "4            Sapiens: A Brief History ...   54.23  \n",
       "5                         The Requiem Red   22.65  \n",
       "6            The Dirty Little Secrets ...   33.34  \n",
       "7                 The Coming Woman: A ...   17.93  \n",
       "8                     The Boys in the ...   22.60  \n",
       "9                         The Black Maria   52.15  \n",
       "10  Starving Hearts (Triangular Trade ...   13.99  \n",
       "11                  Shakespeare's Sonnets   20.66  \n",
       "12                            Set Me Free   17.46  \n",
       "13    Scott Pilgrim's Precious Little ...   52.29  \n",
       "14                      Rip it Up and ...   35.02  \n",
       "15                  Our Band Could Be ...   57.25  \n",
       "16                                   Olio   23.88  \n",
       "17        Mesaerion: The Best Science ...   37.59  \n",
       "18           Libertarianism for Beginners   51.33  \n",
       "19                It's Only the Himalayas   45.17  "
      ]
     },
     "execution_count": 890,
     "metadata": {},
     "output_type": "execute_result"
    }
   ],
   "source": [
    "DF['prices']=result\n",
    "DF['prices'] = DF['prices'].apply(lambda x: float(x.text.lstrip().rstrip().replace('Â£','')))\n",
    "DF"
   ]
  },
  {
   "cell_type": "code",
   "execution_count": 892,
   "id": "65c19671-38d2-4e41-ae2c-dca48dc08da6",
   "metadata": {},
   "outputs": [
    {
     "data": {
      "application/vnd.plotly.v1+json": {
       "config": {
        "plotlyServerURL": "https://plot.ly"
       },
       "data": [
        {
         "alignmentgroup": "True",
         "bingroup": "x",
         "hovertemplate": "names=A Light in the ...<br>prices=%{x}<br>count=%{y}<extra></extra>",
         "legendgroup": "A Light in the ...",
         "marker": {
          "color": "#636efa",
          "pattern": {
           "shape": ""
          }
         },
         "name": "A Light in the ...",
         "offsetgroup": "A Light in the ...",
         "orientation": "v",
         "showlegend": true,
         "type": "histogram",
         "x": [
          51.77
         ],
         "xaxis": "x",
         "yaxis": "y"
        },
        {
         "alignmentgroup": "True",
         "bingroup": "x",
         "hovertemplate": "names=Tipping the Velvet<br>prices=%{x}<br>count=%{y}<extra></extra>",
         "legendgroup": "Tipping the Velvet",
         "marker": {
          "color": "#EF553B",
          "pattern": {
           "shape": ""
          }
         },
         "name": "Tipping the Velvet",
         "offsetgroup": "Tipping the Velvet",
         "orientation": "v",
         "showlegend": true,
         "type": "histogram",
         "x": [
          53.74
         ],
         "xaxis": "x",
         "yaxis": "y"
        },
        {
         "alignmentgroup": "True",
         "bingroup": "x",
         "hovertemplate": "names=Soumission<br>prices=%{x}<br>count=%{y}<extra></extra>",
         "legendgroup": "Soumission",
         "marker": {
          "color": "#00cc96",
          "pattern": {
           "shape": ""
          }
         },
         "name": "Soumission",
         "offsetgroup": "Soumission",
         "orientation": "v",
         "showlegend": true,
         "type": "histogram",
         "x": [
          50.1
         ],
         "xaxis": "x",
         "yaxis": "y"
        },
        {
         "alignmentgroup": "True",
         "bingroup": "x",
         "hovertemplate": "names=Sharp Objects<br>prices=%{x}<br>count=%{y}<extra></extra>",
         "legendgroup": "Sharp Objects",
         "marker": {
          "color": "#ab63fa",
          "pattern": {
           "shape": ""
          }
         },
         "name": "Sharp Objects",
         "offsetgroup": "Sharp Objects",
         "orientation": "v",
         "showlegend": true,
         "type": "histogram",
         "x": [
          47.82
         ],
         "xaxis": "x",
         "yaxis": "y"
        },
        {
         "alignmentgroup": "True",
         "bingroup": "x",
         "hovertemplate": "names=Sapiens: A Brief History ...<br>prices=%{x}<br>count=%{y}<extra></extra>",
         "legendgroup": "Sapiens: A Brief History ...",
         "marker": {
          "color": "#FFA15A",
          "pattern": {
           "shape": ""
          }
         },
         "name": "Sapiens: A Brief History ...",
         "offsetgroup": "Sapiens: A Brief History ...",
         "orientation": "v",
         "showlegend": true,
         "type": "histogram",
         "x": [
          54.23
         ],
         "xaxis": "x",
         "yaxis": "y"
        },
        {
         "alignmentgroup": "True",
         "bingroup": "x",
         "hovertemplate": "names=The Requiem Red<br>prices=%{x}<br>count=%{y}<extra></extra>",
         "legendgroup": "The Requiem Red",
         "marker": {
          "color": "#19d3f3",
          "pattern": {
           "shape": ""
          }
         },
         "name": "The Requiem Red",
         "offsetgroup": "The Requiem Red",
         "orientation": "v",
         "showlegend": true,
         "type": "histogram",
         "x": [
          22.65
         ],
         "xaxis": "x",
         "yaxis": "y"
        },
        {
         "alignmentgroup": "True",
         "bingroup": "x",
         "hovertemplate": "names=The Dirty Little Secrets ...<br>prices=%{x}<br>count=%{y}<extra></extra>",
         "legendgroup": "The Dirty Little Secrets ...",
         "marker": {
          "color": "#FF6692",
          "pattern": {
           "shape": ""
          }
         },
         "name": "The Dirty Little Secrets ...",
         "offsetgroup": "The Dirty Little Secrets ...",
         "orientation": "v",
         "showlegend": true,
         "type": "histogram",
         "x": [
          33.34
         ],
         "xaxis": "x",
         "yaxis": "y"
        },
        {
         "alignmentgroup": "True",
         "bingroup": "x",
         "hovertemplate": "names=The Coming Woman: A ...<br>prices=%{x}<br>count=%{y}<extra></extra>",
         "legendgroup": "The Coming Woman: A ...",
         "marker": {
          "color": "#B6E880",
          "pattern": {
           "shape": ""
          }
         },
         "name": "The Coming Woman: A ...",
         "offsetgroup": "The Coming Woman: A ...",
         "orientation": "v",
         "showlegend": true,
         "type": "histogram",
         "x": [
          17.93
         ],
         "xaxis": "x",
         "yaxis": "y"
        },
        {
         "alignmentgroup": "True",
         "bingroup": "x",
         "hovertemplate": "names=The Boys in the ...<br>prices=%{x}<br>count=%{y}<extra></extra>",
         "legendgroup": "The Boys in the ...",
         "marker": {
          "color": "#FF97FF",
          "pattern": {
           "shape": ""
          }
         },
         "name": "The Boys in the ...",
         "offsetgroup": "The Boys in the ...",
         "orientation": "v",
         "showlegend": true,
         "type": "histogram",
         "x": [
          22.6
         ],
         "xaxis": "x",
         "yaxis": "y"
        },
        {
         "alignmentgroup": "True",
         "bingroup": "x",
         "hovertemplate": "names=The Black Maria<br>prices=%{x}<br>count=%{y}<extra></extra>",
         "legendgroup": "The Black Maria",
         "marker": {
          "color": "#FECB52",
          "pattern": {
           "shape": ""
          }
         },
         "name": "The Black Maria",
         "offsetgroup": "The Black Maria",
         "orientation": "v",
         "showlegend": true,
         "type": "histogram",
         "x": [
          52.15
         ],
         "xaxis": "x",
         "yaxis": "y"
        },
        {
         "alignmentgroup": "True",
         "bingroup": "x",
         "hovertemplate": "names=Starving Hearts (Triangular Trade ...<br>prices=%{x}<br>count=%{y}<extra></extra>",
         "legendgroup": "Starving Hearts (Triangular Trade ...",
         "marker": {
          "color": "#636efa",
          "pattern": {
           "shape": ""
          }
         },
         "name": "Starving Hearts (Triangular Trade ...",
         "offsetgroup": "Starving Hearts (Triangular Trade ...",
         "orientation": "v",
         "showlegend": true,
         "type": "histogram",
         "x": [
          13.99
         ],
         "xaxis": "x",
         "yaxis": "y"
        },
        {
         "alignmentgroup": "True",
         "bingroup": "x",
         "hovertemplate": "names=Shakespeare's Sonnets<br>prices=%{x}<br>count=%{y}<extra></extra>",
         "legendgroup": "Shakespeare's Sonnets",
         "marker": {
          "color": "#EF553B",
          "pattern": {
           "shape": ""
          }
         },
         "name": "Shakespeare's Sonnets",
         "offsetgroup": "Shakespeare's Sonnets",
         "orientation": "v",
         "showlegend": true,
         "type": "histogram",
         "x": [
          20.66
         ],
         "xaxis": "x",
         "yaxis": "y"
        },
        {
         "alignmentgroup": "True",
         "bingroup": "x",
         "hovertemplate": "names=Set Me Free<br>prices=%{x}<br>count=%{y}<extra></extra>",
         "legendgroup": "Set Me Free",
         "marker": {
          "color": "#00cc96",
          "pattern": {
           "shape": ""
          }
         },
         "name": "Set Me Free",
         "offsetgroup": "Set Me Free",
         "orientation": "v",
         "showlegend": true,
         "type": "histogram",
         "x": [
          17.46
         ],
         "xaxis": "x",
         "yaxis": "y"
        },
        {
         "alignmentgroup": "True",
         "bingroup": "x",
         "hovertemplate": "names=Scott Pilgrim's Precious Little ...<br>prices=%{x}<br>count=%{y}<extra></extra>",
         "legendgroup": "Scott Pilgrim's Precious Little ...",
         "marker": {
          "color": "#ab63fa",
          "pattern": {
           "shape": ""
          }
         },
         "name": "Scott Pilgrim's Precious Little ...",
         "offsetgroup": "Scott Pilgrim's Precious Little ...",
         "orientation": "v",
         "showlegend": true,
         "type": "histogram",
         "x": [
          52.29
         ],
         "xaxis": "x",
         "yaxis": "y"
        },
        {
         "alignmentgroup": "True",
         "bingroup": "x",
         "hovertemplate": "names=Rip it Up and ...<br>prices=%{x}<br>count=%{y}<extra></extra>",
         "legendgroup": "Rip it Up and ...",
         "marker": {
          "color": "#FFA15A",
          "pattern": {
           "shape": ""
          }
         },
         "name": "Rip it Up and ...",
         "offsetgroup": "Rip it Up and ...",
         "orientation": "v",
         "showlegend": true,
         "type": "histogram",
         "x": [
          35.02
         ],
         "xaxis": "x",
         "yaxis": "y"
        },
        {
         "alignmentgroup": "True",
         "bingroup": "x",
         "hovertemplate": "names=Our Band Could Be ...<br>prices=%{x}<br>count=%{y}<extra></extra>",
         "legendgroup": "Our Band Could Be ...",
         "marker": {
          "color": "#19d3f3",
          "pattern": {
           "shape": ""
          }
         },
         "name": "Our Band Could Be ...",
         "offsetgroup": "Our Band Could Be ...",
         "orientation": "v",
         "showlegend": true,
         "type": "histogram",
         "x": [
          57.25
         ],
         "xaxis": "x",
         "yaxis": "y"
        },
        {
         "alignmentgroup": "True",
         "bingroup": "x",
         "hovertemplate": "names=Olio<br>prices=%{x}<br>count=%{y}<extra></extra>",
         "legendgroup": "Olio",
         "marker": {
          "color": "#FF6692",
          "pattern": {
           "shape": ""
          }
         },
         "name": "Olio",
         "offsetgroup": "Olio",
         "orientation": "v",
         "showlegend": true,
         "type": "histogram",
         "x": [
          23.88
         ],
         "xaxis": "x",
         "yaxis": "y"
        },
        {
         "alignmentgroup": "True",
         "bingroup": "x",
         "hovertemplate": "names=Mesaerion: The Best Science ...<br>prices=%{x}<br>count=%{y}<extra></extra>",
         "legendgroup": "Mesaerion: The Best Science ...",
         "marker": {
          "color": "#B6E880",
          "pattern": {
           "shape": ""
          }
         },
         "name": "Mesaerion: The Best Science ...",
         "offsetgroup": "Mesaerion: The Best Science ...",
         "orientation": "v",
         "showlegend": true,
         "type": "histogram",
         "x": [
          37.59
         ],
         "xaxis": "x",
         "yaxis": "y"
        },
        {
         "alignmentgroup": "True",
         "bingroup": "x",
         "hovertemplate": "names=Libertarianism for Beginners<br>prices=%{x}<br>count=%{y}<extra></extra>",
         "legendgroup": "Libertarianism for Beginners",
         "marker": {
          "color": "#FF97FF",
          "pattern": {
           "shape": ""
          }
         },
         "name": "Libertarianism for Beginners",
         "offsetgroup": "Libertarianism for Beginners",
         "orientation": "v",
         "showlegend": true,
         "type": "histogram",
         "x": [
          51.33
         ],
         "xaxis": "x",
         "yaxis": "y"
        },
        {
         "alignmentgroup": "True",
         "bingroup": "x",
         "hovertemplate": "names=It's Only the Himalayas<br>prices=%{x}<br>count=%{y}<extra></extra>",
         "legendgroup": "It's Only the Himalayas",
         "marker": {
          "color": "#FECB52",
          "pattern": {
           "shape": ""
          }
         },
         "name": "It's Only the Himalayas",
         "offsetgroup": "It's Only the Himalayas",
         "orientation": "v",
         "showlegend": true,
         "type": "histogram",
         "x": [
          45.17
         ],
         "xaxis": "x",
         "yaxis": "y"
        }
       ],
       "layout": {
        "autosize": false,
        "barmode": "relative",
        "height": 300,
        "legend": {
         "title": {
          "text": "Book Titles"
         },
         "tracegroupgap": 0
        },
        "margin": {
         "t": 60
        },
        "template": {
         "data": {
          "bar": [
           {
            "error_x": {
             "color": "#2a3f5f"
            },
            "error_y": {
             "color": "#2a3f5f"
            },
            "marker": {
             "line": {
              "color": "#E5ECF6",
              "width": 0.5
             },
             "pattern": {
              "fillmode": "overlay",
              "size": 10,
              "solidity": 0.2
             }
            },
            "type": "bar"
           }
          ],
          "barpolar": [
           {
            "marker": {
             "line": {
              "color": "#E5ECF6",
              "width": 0.5
             },
             "pattern": {
              "fillmode": "overlay",
              "size": 10,
              "solidity": 0.2
             }
            },
            "type": "barpolar"
           }
          ],
          "carpet": [
           {
            "aaxis": {
             "endlinecolor": "#2a3f5f",
             "gridcolor": "white",
             "linecolor": "white",
             "minorgridcolor": "white",
             "startlinecolor": "#2a3f5f"
            },
            "baxis": {
             "endlinecolor": "#2a3f5f",
             "gridcolor": "white",
             "linecolor": "white",
             "minorgridcolor": "white",
             "startlinecolor": "#2a3f5f"
            },
            "type": "carpet"
           }
          ],
          "choropleth": [
           {
            "colorbar": {
             "outlinewidth": 0,
             "ticks": ""
            },
            "type": "choropleth"
           }
          ],
          "contour": [
           {
            "colorbar": {
             "outlinewidth": 0,
             "ticks": ""
            },
            "colorscale": [
             [
              0,
              "#0d0887"
             ],
             [
              0.1111111111111111,
              "#46039f"
             ],
             [
              0.2222222222222222,
              "#7201a8"
             ],
             [
              0.3333333333333333,
              "#9c179e"
             ],
             [
              0.4444444444444444,
              "#bd3786"
             ],
             [
              0.5555555555555556,
              "#d8576b"
             ],
             [
              0.6666666666666666,
              "#ed7953"
             ],
             [
              0.7777777777777778,
              "#fb9f3a"
             ],
             [
              0.8888888888888888,
              "#fdca26"
             ],
             [
              1,
              "#f0f921"
             ]
            ],
            "type": "contour"
           }
          ],
          "contourcarpet": [
           {
            "colorbar": {
             "outlinewidth": 0,
             "ticks": ""
            },
            "type": "contourcarpet"
           }
          ],
          "heatmap": [
           {
            "colorbar": {
             "outlinewidth": 0,
             "ticks": ""
            },
            "colorscale": [
             [
              0,
              "#0d0887"
             ],
             [
              0.1111111111111111,
              "#46039f"
             ],
             [
              0.2222222222222222,
              "#7201a8"
             ],
             [
              0.3333333333333333,
              "#9c179e"
             ],
             [
              0.4444444444444444,
              "#bd3786"
             ],
             [
              0.5555555555555556,
              "#d8576b"
             ],
             [
              0.6666666666666666,
              "#ed7953"
             ],
             [
              0.7777777777777778,
              "#fb9f3a"
             ],
             [
              0.8888888888888888,
              "#fdca26"
             ],
             [
              1,
              "#f0f921"
             ]
            ],
            "type": "heatmap"
           }
          ],
          "heatmapgl": [
           {
            "colorbar": {
             "outlinewidth": 0,
             "ticks": ""
            },
            "colorscale": [
             [
              0,
              "#0d0887"
             ],
             [
              0.1111111111111111,
              "#46039f"
             ],
             [
              0.2222222222222222,
              "#7201a8"
             ],
             [
              0.3333333333333333,
              "#9c179e"
             ],
             [
              0.4444444444444444,
              "#bd3786"
             ],
             [
              0.5555555555555556,
              "#d8576b"
             ],
             [
              0.6666666666666666,
              "#ed7953"
             ],
             [
              0.7777777777777778,
              "#fb9f3a"
             ],
             [
              0.8888888888888888,
              "#fdca26"
             ],
             [
              1,
              "#f0f921"
             ]
            ],
            "type": "heatmapgl"
           }
          ],
          "histogram": [
           {
            "marker": {
             "pattern": {
              "fillmode": "overlay",
              "size": 10,
              "solidity": 0.2
             }
            },
            "type": "histogram"
           }
          ],
          "histogram2d": [
           {
            "colorbar": {
             "outlinewidth": 0,
             "ticks": ""
            },
            "colorscale": [
             [
              0,
              "#0d0887"
             ],
             [
              0.1111111111111111,
              "#46039f"
             ],
             [
              0.2222222222222222,
              "#7201a8"
             ],
             [
              0.3333333333333333,
              "#9c179e"
             ],
             [
              0.4444444444444444,
              "#bd3786"
             ],
             [
              0.5555555555555556,
              "#d8576b"
             ],
             [
              0.6666666666666666,
              "#ed7953"
             ],
             [
              0.7777777777777778,
              "#fb9f3a"
             ],
             [
              0.8888888888888888,
              "#fdca26"
             ],
             [
              1,
              "#f0f921"
             ]
            ],
            "type": "histogram2d"
           }
          ],
          "histogram2dcontour": [
           {
            "colorbar": {
             "outlinewidth": 0,
             "ticks": ""
            },
            "colorscale": [
             [
              0,
              "#0d0887"
             ],
             [
              0.1111111111111111,
              "#46039f"
             ],
             [
              0.2222222222222222,
              "#7201a8"
             ],
             [
              0.3333333333333333,
              "#9c179e"
             ],
             [
              0.4444444444444444,
              "#bd3786"
             ],
             [
              0.5555555555555556,
              "#d8576b"
             ],
             [
              0.6666666666666666,
              "#ed7953"
             ],
             [
              0.7777777777777778,
              "#fb9f3a"
             ],
             [
              0.8888888888888888,
              "#fdca26"
             ],
             [
              1,
              "#f0f921"
             ]
            ],
            "type": "histogram2dcontour"
           }
          ],
          "mesh3d": [
           {
            "colorbar": {
             "outlinewidth": 0,
             "ticks": ""
            },
            "type": "mesh3d"
           }
          ],
          "parcoords": [
           {
            "line": {
             "colorbar": {
              "outlinewidth": 0,
              "ticks": ""
             }
            },
            "type": "parcoords"
           }
          ],
          "pie": [
           {
            "automargin": true,
            "type": "pie"
           }
          ],
          "scatter": [
           {
            "fillpattern": {
             "fillmode": "overlay",
             "size": 10,
             "solidity": 0.2
            },
            "type": "scatter"
           }
          ],
          "scatter3d": [
           {
            "line": {
             "colorbar": {
              "outlinewidth": 0,
              "ticks": ""
             }
            },
            "marker": {
             "colorbar": {
              "outlinewidth": 0,
              "ticks": ""
             }
            },
            "type": "scatter3d"
           }
          ],
          "scattercarpet": [
           {
            "marker": {
             "colorbar": {
              "outlinewidth": 0,
              "ticks": ""
             }
            },
            "type": "scattercarpet"
           }
          ],
          "scattergeo": [
           {
            "marker": {
             "colorbar": {
              "outlinewidth": 0,
              "ticks": ""
             }
            },
            "type": "scattergeo"
           }
          ],
          "scattergl": [
           {
            "marker": {
             "colorbar": {
              "outlinewidth": 0,
              "ticks": ""
             }
            },
            "type": "scattergl"
           }
          ],
          "scattermapbox": [
           {
            "marker": {
             "colorbar": {
              "outlinewidth": 0,
              "ticks": ""
             }
            },
            "type": "scattermapbox"
           }
          ],
          "scatterpolar": [
           {
            "marker": {
             "colorbar": {
              "outlinewidth": 0,
              "ticks": ""
             }
            },
            "type": "scatterpolar"
           }
          ],
          "scatterpolargl": [
           {
            "marker": {
             "colorbar": {
              "outlinewidth": 0,
              "ticks": ""
             }
            },
            "type": "scatterpolargl"
           }
          ],
          "scatterternary": [
           {
            "marker": {
             "colorbar": {
              "outlinewidth": 0,
              "ticks": ""
             }
            },
            "type": "scatterternary"
           }
          ],
          "surface": [
           {
            "colorbar": {
             "outlinewidth": 0,
             "ticks": ""
            },
            "colorscale": [
             [
              0,
              "#0d0887"
             ],
             [
              0.1111111111111111,
              "#46039f"
             ],
             [
              0.2222222222222222,
              "#7201a8"
             ],
             [
              0.3333333333333333,
              "#9c179e"
             ],
             [
              0.4444444444444444,
              "#bd3786"
             ],
             [
              0.5555555555555556,
              "#d8576b"
             ],
             [
              0.6666666666666666,
              "#ed7953"
             ],
             [
              0.7777777777777778,
              "#fb9f3a"
             ],
             [
              0.8888888888888888,
              "#fdca26"
             ],
             [
              1,
              "#f0f921"
             ]
            ],
            "type": "surface"
           }
          ],
          "table": [
           {
            "cells": {
             "fill": {
              "color": "#EBF0F8"
             },
             "line": {
              "color": "white"
             }
            },
            "header": {
             "fill": {
              "color": "#C8D4E3"
             },
             "line": {
              "color": "white"
             }
            },
            "type": "table"
           }
          ]
         },
         "layout": {
          "annotationdefaults": {
           "arrowcolor": "#2a3f5f",
           "arrowhead": 0,
           "arrowwidth": 1
          },
          "autotypenumbers": "strict",
          "coloraxis": {
           "colorbar": {
            "outlinewidth": 0,
            "ticks": ""
           }
          },
          "colorscale": {
           "diverging": [
            [
             0,
             "#8e0152"
            ],
            [
             0.1,
             "#c51b7d"
            ],
            [
             0.2,
             "#de77ae"
            ],
            [
             0.3,
             "#f1b6da"
            ],
            [
             0.4,
             "#fde0ef"
            ],
            [
             0.5,
             "#f7f7f7"
            ],
            [
             0.6,
             "#e6f5d0"
            ],
            [
             0.7,
             "#b8e186"
            ],
            [
             0.8,
             "#7fbc41"
            ],
            [
             0.9,
             "#4d9221"
            ],
            [
             1,
             "#276419"
            ]
           ],
           "sequential": [
            [
             0,
             "#0d0887"
            ],
            [
             0.1111111111111111,
             "#46039f"
            ],
            [
             0.2222222222222222,
             "#7201a8"
            ],
            [
             0.3333333333333333,
             "#9c179e"
            ],
            [
             0.4444444444444444,
             "#bd3786"
            ],
            [
             0.5555555555555556,
             "#d8576b"
            ],
            [
             0.6666666666666666,
             "#ed7953"
            ],
            [
             0.7777777777777778,
             "#fb9f3a"
            ],
            [
             0.8888888888888888,
             "#fdca26"
            ],
            [
             1,
             "#f0f921"
            ]
           ],
           "sequentialminus": [
            [
             0,
             "#0d0887"
            ],
            [
             0.1111111111111111,
             "#46039f"
            ],
            [
             0.2222222222222222,
             "#7201a8"
            ],
            [
             0.3333333333333333,
             "#9c179e"
            ],
            [
             0.4444444444444444,
             "#bd3786"
            ],
            [
             0.5555555555555556,
             "#d8576b"
            ],
            [
             0.6666666666666666,
             "#ed7953"
            ],
            [
             0.7777777777777778,
             "#fb9f3a"
            ],
            [
             0.8888888888888888,
             "#fdca26"
            ],
            [
             1,
             "#f0f921"
            ]
           ]
          },
          "colorway": [
           "#636efa",
           "#EF553B",
           "#00cc96",
           "#ab63fa",
           "#FFA15A",
           "#19d3f3",
           "#FF6692",
           "#B6E880",
           "#FF97FF",
           "#FECB52"
          ],
          "font": {
           "color": "#2a3f5f"
          },
          "geo": {
           "bgcolor": "white",
           "lakecolor": "white",
           "landcolor": "#E5ECF6",
           "showlakes": true,
           "showland": true,
           "subunitcolor": "white"
          },
          "hoverlabel": {
           "align": "left"
          },
          "hovermode": "closest",
          "mapbox": {
           "style": "light"
          },
          "paper_bgcolor": "white",
          "plot_bgcolor": "#E5ECF6",
          "polar": {
           "angularaxis": {
            "gridcolor": "white",
            "linecolor": "white",
            "ticks": ""
           },
           "bgcolor": "#E5ECF6",
           "radialaxis": {
            "gridcolor": "white",
            "linecolor": "white",
            "ticks": ""
           }
          },
          "scene": {
           "xaxis": {
            "backgroundcolor": "#E5ECF6",
            "gridcolor": "white",
            "gridwidth": 2,
            "linecolor": "white",
            "showbackground": true,
            "ticks": "",
            "zerolinecolor": "white"
           },
           "yaxis": {
            "backgroundcolor": "#E5ECF6",
            "gridcolor": "white",
            "gridwidth": 2,
            "linecolor": "white",
            "showbackground": true,
            "ticks": "",
            "zerolinecolor": "white"
           },
           "zaxis": {
            "backgroundcolor": "#E5ECF6",
            "gridcolor": "white",
            "gridwidth": 2,
            "linecolor": "white",
            "showbackground": true,
            "ticks": "",
            "zerolinecolor": "white"
           }
          },
          "shapedefaults": {
           "line": {
            "color": "#2a3f5f"
           }
          },
          "ternary": {
           "aaxis": {
            "gridcolor": "white",
            "linecolor": "white",
            "ticks": ""
           },
           "baxis": {
            "gridcolor": "white",
            "linecolor": "white",
            "ticks": ""
           },
           "bgcolor": "#E5ECF6",
           "caxis": {
            "gridcolor": "white",
            "linecolor": "white",
            "ticks": ""
           }
          },
          "title": {
           "x": 0.05
          },
          "xaxis": {
           "automargin": true,
           "gridcolor": "white",
           "linecolor": "white",
           "ticks": "",
           "title": {
            "standoff": 15
           },
           "zerolinecolor": "white",
           "zerolinewidth": 2
          },
          "yaxis": {
           "automargin": true,
           "gridcolor": "white",
           "linecolor": "white",
           "ticks": "",
           "title": {
            "standoff": 15
           },
           "zerolinecolor": "white",
           "zerolinewidth": 2
          }
         }
        },
        "title": {
         "text": "Prices of Different Books",
         "x": 0.3
        },
        "width": 800,
        "xaxis": {
         "anchor": "y",
         "autorange": true,
         "domain": [
          0,
          1
         ],
         "range": [
          10,
          60
         ],
         "title": {
          "text": "Book Prices"
         },
         "type": "linear"
        },
        "yaxis": {
         "anchor": "x",
         "autorange": true,
         "domain": [
          0,
          1
         ],
         "range": [
          0,
          8.421052631578947
         ],
         "title": {
          "text": "count"
         }
        }
       }
      },
      "image/png": "[encoded data removed]",
      "text/html": [
       "<div>                            <div id=\"ce7c4cf6-2447-4382-9318-7707fc1510cb\" class=\"plotly-graph-div\" style=\"height:300px; width:800px;\"></div>            <script type=\"text/javascript\">                require([\"plotly\"], function(Plotly) {                    window.PLOTLYENV=window.PLOTLYENV || {};                                    if (document.getElementById(\"ce7c4cf6-2447-4382-9318-7707fc1510cb\")) {                    Plotly.newPlot(                        \"ce7c4cf6-2447-4382-9318-7707fc1510cb\",                        [{\"alignmentgroup\":\"True\",\"bingroup\":\"x\",\"hovertemplate\":\"names=A Light in the ...\\u003cbr\\u003eprices=%{x}\\u003cbr\\u003ecount=%{y}\\u003cextra\\u003e\\u003c\\u002fextra\\u003e\",\"legendgroup\":\"A Light in the ...\",\"marker\":{\"color\":\"#636efa\",\"pattern\":{\"shape\":\"\"}},\"name\":\"A Light in the ...\",\"offsetgroup\":\"A Light in the ...\",\"orientation\":\"v\",\"showlegend\":true,\"x\":[51.77],\"xaxis\":\"x\",\"yaxis\":\"y\",\"type\":\"histogram\"},{\"alignmentgroup\":\"True\",\"bingroup\":\"x\",\"hovertemplate\":\"names=Tipping the Velvet\\u003cbr\\u003eprices=%{x}\\u003cbr\\u003ecount=%{y}\\u003cextra\\u003e\\u003c\\u002fextra\\u003e\",\"legendgroup\":\"Tipping the Velvet\",\"marker\":{\"color\":\"#EF553B\",\"pattern\":{\"shape\":\"\"}},\"name\":\"Tipping the Velvet\",\"offsetgroup\":\"Tipping the Velvet\",\"orientation\":\"v\",\"showlegend\":true,\"x\":[53.74],\"xaxis\":\"x\",\"yaxis\":\"y\",\"type\":\"histogram\"},{\"alignmentgroup\":\"True\",\"bingroup\":\"x\",\"hovertemplate\":\"names=Soumission\\u003cbr\\u003eprices=%{x}\\u003cbr\\u003ecount=%{y}\\u003cextra\\u003e\\u003c\\u002fextra\\u003e\",\"legendgroup\":\"Soumission\",\"marker\":{\"color\":\"#00cc96\",\"pattern\":{\"shape\":\"\"}},\"name\":\"Soumission\",\"offsetgroup\":\"Soumission\",\"orientation\":\"v\",\"showlegend\":true,\"x\":[50.1],\"xaxis\":\"x\",\"yaxis\":\"y\",\"type\":\"histogram\"},{\"alignmentgroup\":\"True\",\"bingroup\":\"x\",\"hovertemplate\":\"names=Sharp Objects\\u003cbr\\u003eprices=%{x}\\u003cbr\\u003ecount=%{y}\\u003cextra\\u003e\\u003c\\u002fextra\\u003e\",\"legendgroup\":\"Sharp Objects\",\"marker\":{\"color\":\"#ab63fa\",\"pattern\":{\"shape\":\"\"}},\"name\":\"Sharp Objects\",\"offsetgroup\":\"Sharp Objects\",\"orientation\":\"v\",\"showlegend\":true,\"x\":[47.82],\"xaxis\":\"x\",\"yaxis\":\"y\",\"type\":\"histogram\"},{\"alignmentgroup\":\"True\",\"bingroup\":\"x\",\"hovertemplate\":\"names=Sapiens: A Brief History ...\\u003cbr\\u003eprices=%{x}\\u003cbr\\u003ecount=%{y}\\u003cextra\\u003e\\u003c\\u002fextra\\u003e\",\"legendgroup\":\"Sapiens: A Brief History ...\",\"marker\":{\"color\":\"#FFA15A\",\"pattern\":{\"shape\":\"\"}},\"name\":\"Sapiens: A Brief History ...\",\"offsetgroup\":\"Sapiens: A Brief History ...\",\"orientation\":\"v\",\"showlegend\":true,\"x\":[54.23],\"xaxis\":\"x\",\"yaxis\":\"y\",\"type\":\"histogram\"},{\"alignmentgroup\":\"True\",\"bingroup\":\"x\",\"hovertemplate\":\"names=The Requiem Red\\u003cbr\\u003eprices=%{x}\\u003cbr\\u003ecount=%{y}\\u003cextra\\u003e\\u003c\\u002fextra\\u003e\",\"legendgroup\":\"The Requiem Red\",\"marker\":{\"color\":\"#19d3f3\",\"pattern\":{\"shape\":\"\"}},\"name\":\"The Requiem Red\",\"offsetgroup\":\"The Requiem Red\",\"orientation\":\"v\",\"showlegend\":true,\"x\":[22.65],\"xaxis\":\"x\",\"yaxis\":\"y\",\"type\":\"histogram\"},{\"alignmentgroup\":\"True\",\"bingroup\":\"x\",\"hovertemplate\":\"names=The Dirty Little Secrets ...\\u003cbr\\u003eprices=%{x}\\u003cbr\\u003ecount=%{y}\\u003cextra\\u003e\\u003c\\u002fextra\\u003e\",\"legendgroup\":\"The Dirty Little Secrets ...\",\"marker\":{\"color\":\"#FF6692\",\"pattern\":{\"shape\":\"\"}},\"name\":\"The Dirty Little Secrets ...\",\"offsetgroup\":\"The Dirty Little Secrets ...\",\"orientation\":\"v\",\"showlegend\":true,\"x\":[33.34],\"xaxis\":\"x\",\"yaxis\":\"y\",\"type\":\"histogram\"},{\"alignmentgroup\":\"True\",\"bingroup\":\"x\",\"hovertemplate\":\"names=The Coming Woman: A ...\\u003cbr\\u003eprices=%{x}\\u003cbr\\u003ecount=%{y}\\u003cextra\\u003e\\u003c\\u002fextra\\u003e\",\"legendgroup\":\"The Coming Woman: A ...\",\"marker\":{\"color\":\"#B6E880\",\"pattern\":{\"shape\":\"\"}},\"name\":\"The Coming Woman: A ...\",\"offsetgroup\":\"The Coming Woman: A ...\",\"orientation\":\"v\",\"showlegend\":true,\"x\":[17.93],\"xaxis\":\"x\",\"yaxis\":\"y\",\"type\":\"histogram\"},{\"alignmentgroup\":\"True\",\"bingroup\":\"x\",\"hovertemplate\":\"names=The Boys in the ...\\u003cbr\\u003eprices=%{x}\\u003cbr\\u003ecount=%{y}\\u003cextra\\u003e\\u003c\\u002fextra\\u003e\",\"legendgroup\":\"The Boys in the ...\",\"marker\":{\"color\":\"#FF97FF\",\"pattern\":{\"shape\":\"\"}},\"name\":\"The Boys in the ...\",\"offsetgroup\":\"The Boys in the ...\",\"orientation\":\"v\",\"showlegend\":true,\"x\":[22.6],\"xaxis\":\"x\",\"yaxis\":\"y\",\"type\":\"histogram\"},{\"alignmentgroup\":\"True\",\"bingroup\":\"x\",\"hovertemplate\":\"names=The Black Maria\\u003cbr\\u003eprices=%{x}\\u003cbr\\u003ecount=%{y}\\u003cextra\\u003e\\u003c\\u002fextra\\u003e\",\"legendgroup\":\"The Black Maria\",\"marker\":{\"color\":\"#FECB52\",\"pattern\":{\"shape\":\"\"}},\"name\":\"The Black Maria\",\"offsetgroup\":\"The Black Maria\",\"orientation\":\"v\",\"showlegend\":true,\"x\":[52.15],\"xaxis\":\"x\",\"yaxis\":\"y\",\"type\":\"histogram\"},{\"alignmentgroup\":\"True\",\"bingroup\":\"x\",\"hovertemplate\":\"names=Starving Hearts (Triangular Trade ...\\u003cbr\\u003eprices=%{x}\\u003cbr\\u003ecount=%{y}\\u003cextra\\u003e\\u003c\\u002fextra\\u003e\",\"legendgroup\":\"Starving Hearts (Triangular Trade ...\",\"marker\":{\"color\":\"#636efa\",\"pattern\":{\"shape\":\"\"}},\"name\":\"Starving Hearts (Triangular Trade ...\",\"offsetgroup\":\"Starving Hearts (Triangular Trade ...\",\"orientation\":\"v\",\"showlegend\":true,\"x\":[13.99],\"xaxis\":\"x\",\"yaxis\":\"y\",\"type\":\"histogram\"},{\"alignmentgroup\":\"True\",\"bingroup\":\"x\",\"hovertemplate\":\"names=Shakespeare's Sonnets\\u003cbr\\u003eprices=%{x}\\u003cbr\\u003ecount=%{y}\\u003cextra\\u003e\\u003c\\u002fextra\\u003e\",\"legendgroup\":\"Shakespeare's Sonnets\",\"marker\":{\"color\":\"#EF553B\",\"pattern\":{\"shape\":\"\"}},\"name\":\"Shakespeare's Sonnets\",\"offsetgroup\":\"Shakespeare's Sonnets\",\"orientation\":\"v\",\"showlegend\":true,\"x\":[20.66],\"xaxis\":\"x\",\"yaxis\":\"y\",\"type\":\"histogram\"},{\"alignmentgroup\":\"True\",\"bingroup\":\"x\",\"hovertemplate\":\"names=Set Me Free\\u003cbr\\u003eprices=%{x}\\u003cbr\\u003ecount=%{y}\\u003cextra\\u003e\\u003c\\u002fextra\\u003e\",\"legendgroup\":\"Set Me Free\",\"marker\":{\"color\":\"#00cc96\",\"pattern\":{\"shape\":\"\"}},\"name\":\"Set Me Free\",\"offsetgroup\":\"Set Me Free\",\"orientation\":\"v\",\"showlegend\":true,\"x\":[17.46],\"xaxis\":\"x\",\"yaxis\":\"y\",\"type\":\"histogram\"},{\"alignmentgroup\":\"True\",\"bingroup\":\"x\",\"hovertemplate\":\"names=Scott Pilgrim's Precious Little ...\\u003cbr\\u003eprices=%{x}\\u003cbr\\u003ecount=%{y}\\u003cextra\\u003e\\u003c\\u002fextra\\u003e\",\"legendgroup\":\"Scott Pilgrim's Precious Little ...\",\"marker\":{\"color\":\"#ab63fa\",\"pattern\":{\"shape\":\"\"}},\"name\":\"Scott Pilgrim's Precious Little ...\",\"offsetgroup\":\"Scott Pilgrim's Precious Little ...\",\"orientation\":\"v\",\"showlegend\":true,\"x\":[52.29],\"xaxis\":\"x\",\"yaxis\":\"y\",\"type\":\"histogram\"},{\"alignmentgroup\":\"True\",\"bingroup\":\"x\",\"hovertemplate\":\"names=Rip it Up and ...\\u003cbr\\u003eprices=%{x}\\u003cbr\\u003ecount=%{y}\\u003cextra\\u003e\\u003c\\u002fextra\\u003e\",\"legendgroup\":\"Rip it Up and ...\",\"marker\":{\"color\":\"#FFA15A\",\"pattern\":{\"shape\":\"\"}},\"name\":\"Rip it Up and ...\",\"offsetgroup\":\"Rip it Up and ...\",\"orientation\":\"v\",\"showlegend\":true,\"x\":[35.02],\"xaxis\":\"x\",\"yaxis\":\"y\",\"type\":\"histogram\"},{\"alignmentgroup\":\"True\",\"bingroup\":\"x\",\"hovertemplate\":\"names=Our Band Could Be ...\\u003cbr\\u003eprices=%{x}\\u003cbr\\u003ecount=%{y}\\u003cextra\\u003e\\u003c\\u002fextra\\u003e\",\"legendgroup\":\"Our Band Could Be ...\",\"marker\":{\"color\":\"#19d3f3\",\"pattern\":{\"shape\":\"\"}},\"name\":\"Our Band Could Be ...\",\"offsetgroup\":\"Our Band Could Be ...\",\"orientation\":\"v\",\"showlegend\":true,\"x\":[57.25],\"xaxis\":\"x\",\"yaxis\":\"y\",\"type\":\"histogram\"},{\"alignmentgroup\":\"True\",\"bingroup\":\"x\",\"hovertemplate\":\"names=Olio\\u003cbr\\u003eprices=%{x}\\u003cbr\\u003ecount=%{y}\\u003cextra\\u003e\\u003c\\u002fextra\\u003e\",\"legendgroup\":\"Olio\",\"marker\":{\"color\":\"#FF6692\",\"pattern\":{\"shape\":\"\"}},\"name\":\"Olio\",\"offsetgroup\":\"Olio\",\"orientation\":\"v\",\"showlegend\":true,\"x\":[23.88],\"xaxis\":\"x\",\"yaxis\":\"y\",\"type\":\"histogram\"},{\"alignmentgroup\":\"True\",\"bingroup\":\"x\",\"hovertemplate\":\"names=Mesaerion: The Best Science ...\\u003cbr\\u003eprices=%{x}\\u003cbr\\u003ecount=%{y}\\u003cextra\\u003e\\u003c\\u002fextra\\u003e\",\"legendgroup\":\"Mesaerion: The Best Science ...\",\"marker\":{\"color\":\"#B6E880\",\"pattern\":{\"shape\":\"\"}},\"name\":\"Mesaerion: The Best Science ...\",\"offsetgroup\":\"Mesaerion: The Best Science ...\",\"orientation\":\"v\",\"showlegend\":true,\"x\":[37.59],\"xaxis\":\"x\",\"yaxis\":\"y\",\"type\":\"histogram\"},{\"alignmentgroup\":\"True\",\"bingroup\":\"x\",\"hovertemplate\":\"names=Libertarianism for Beginners\\u003cbr\\u003eprices=%{x}\\u003cbr\\u003ecount=%{y}\\u003cextra\\u003e\\u003c\\u002fextra\\u003e\",\"legendgroup\":\"Libertarianism for Beginners\",\"marker\":{\"color\":\"#FF97FF\",\"pattern\":{\"shape\":\"\"}},\"name\":\"Libertarianism for Beginners\",\"offsetgroup\":\"Libertarianism for Beginners\",\"orientation\":\"v\",\"showlegend\":true,\"x\":[51.33],\"xaxis\":\"x\",\"yaxis\":\"y\",\"type\":\"histogram\"},{\"alignmentgroup\":\"True\",\"bingroup\":\"x\",\"hovertemplate\":\"names=It's Only the Himalayas\\u003cbr\\u003eprices=%{x}\\u003cbr\\u003ecount=%{y}\\u003cextra\\u003e\\u003c\\u002fextra\\u003e\",\"legendgroup\":\"It's Only the Himalayas\",\"marker\":{\"color\":\"#FECB52\",\"pattern\":{\"shape\":\"\"}},\"name\":\"It's Only the Himalayas\",\"offsetgroup\":\"It's Only the Himalayas\",\"orientation\":\"v\",\"showlegend\":true,\"x\":[45.17],\"xaxis\":\"x\",\"yaxis\":\"y\",\"type\":\"histogram\"}],                        {\"template\":{\"data\":{\"histogram2dcontour\":[{\"type\":\"histogram2dcontour\",\"colorbar\":{\"outlinewidth\":0,\"ticks\":\"\"},\"colorscale\":[[0.0,\"#0d0887\"],[0.1111111111111111,\"#46039f\"],[0.2222222222222222,\"#7201a8\"],[0.3333333333333333,\"#9c179e\"],[0.4444444444444444,\"#bd3786\"],[0.5555555555555556,\"#d8576b\"],[0.6666666666666666,\"#ed7953\"],[0.7777777777777778,\"#fb9f3a\"],[0.8888888888888888,\"#fdca26\"],[1.0,\"#f0f921\"]]}],\"choropleth\":[{\"type\":\"choropleth\",\"colorbar\":{\"outlinewidth\":0,\"ticks\":\"\"}}],\"histogram2d\":[{\"type\":\"histogram2d\",\"colorbar\":{\"outlinewidth\":0,\"ticks\":\"\"},\"colorscale\":[[0.0,\"#0d0887\"],[0.1111111111111111,\"#46039f\"],[0.2222222222222222,\"#7201a8\"],[0.3333333333333333,\"#9c179e\"],[0.4444444444444444,\"#bd3786\"],[0.5555555555555556,\"#d8576b\"],[0.6666666666666666,\"#ed7953\"],[0.7777777777777778,\"#fb9f3a\"],[0.8888888888888888,\"#fdca26\"],[1.0,\"#f0f921\"]]}],\"heatmap\":[{\"type\":\"heatmap\",\"colorbar\":{\"outlinewidth\":0,\"ticks\":\"\"},\"colorscale\":[[0.0,\"#0d0887\"],[0.1111111111111111,\"#46039f\"],[0.2222222222222222,\"#7201a8\"],[0.3333333333333333,\"#9c179e\"],[0.4444444444444444,\"#bd3786\"],[0.5555555555555556,\"#d8576b\"],[0.6666666666666666,\"#ed7953\"],[0.7777777777777778,\"#fb9f3a\"],[0.8888888888888888,\"#fdca26\"],[1.0,\"#f0f921\"]]}],\"heatmapgl\":[{\"type\":\"heatmapgl\",\"colorbar\":{\"outlinewidth\":0,\"ticks\":\"\"},\"colorscale\":[[0.0,\"#0d0887\"],[0.1111111111111111,\"#46039f\"],[0.2222222222222222,\"#7201a8\"],[0.3333333333333333,\"#9c179e\"],[0.4444444444444444,\"#bd3786\"],[0.5555555555555556,\"#d8576b\"],[0.6666666666666666,\"#ed7953\"],[0.7777777777777778,\"#fb9f3a\"],[0.8888888888888888,\"#fdca26\"],[1.0,\"#f0f921\"]]}],\"contourcarpet\":[{\"type\":\"contourcarpet\",\"colorbar\":{\"outlinewidth\":0,\"ticks\":\"\"}}],\"contour\":[{\"type\":\"contour\",\"colorbar\":{\"outlinewidth\":0,\"ticks\":\"\"},\"colorscale\":[[0.0,\"#0d0887\"],[0.1111111111111111,\"#46039f\"],[0.2222222222222222,\"#7201a8\"],[0.3333333333333333,\"#9c179e\"],[0.4444444444444444,\"#bd3786\"],[0.5555555555555556,\"#d8576b\"],[0.6666666666666666,\"#ed7953\"],[0.7777777777777778,\"#fb9f3a\"],[0.8888888888888888,\"#fdca26\"],[1.0,\"#f0f921\"]]}],\"surface\":[{\"type\":\"surface\",\"colorbar\":{\"outlinewidth\":0,\"ticks\":\"\"},\"colorscale\":[[0.0,\"#0d0887\"],[0.1111111111111111,\"#46039f\"],[0.2222222222222222,\"#7201a8\"],[0.3333333333333333,\"#9c179e\"],[0.4444444444444444,\"#bd3786\"],[0.5555555555555556,\"#d8576b\"],[0.6666666666666666,\"#ed7953\"],[0.7777777777777778,\"#fb9f3a\"],[0.8888888888888888,\"#fdca26\"],[1.0,\"#f0f921\"]]}],\"mesh3d\":[{\"type\":\"mesh3d\",\"colorbar\":{\"outlinewidth\":0,\"ticks\":\"\"}}],\"scatter\":[{\"fillpattern\":{\"fillmode\":\"overlay\",\"size\":10,\"solidity\":0.2},\"type\":\"scatter\"}],\"parcoords\":[{\"type\":\"parcoords\",\"line\":{\"colorbar\":{\"outlinewidth\":0,\"ticks\":\"\"}}}],\"scatterpolargl\":[{\"type\":\"scatterpolargl\",\"marker\":{\"colorbar\":{\"outlinewidth\":0,\"ticks\":\"\"}}}],\"bar\":[{\"error_x\":{\"color\":\"#2a3f5f\"},\"error_y\":{\"color\":\"#2a3f5f\"},\"marker\":{\"line\":{\"color\":\"#E5ECF6\",\"width\":0.5},\"pattern\":{\"fillmode\":\"overlay\",\"size\":10,\"solidity\":0.2}},\"type\":\"bar\"}],\"scattergeo\":[{\"type\":\"scattergeo\",\"marker\":{\"colorbar\":{\"outlinewidth\":0,\"ticks\":\"\"}}}],\"scatterpolar\":[{\"type\":\"scatterpolar\",\"marker\":{\"colorbar\":{\"outlinewidth\":0,\"ticks\":\"\"}}}],\"histogram\":[{\"marker\":{\"pattern\":{\"fillmode\":\"overlay\",\"size\":10,\"solidity\":0.2}},\"type\":\"histogram\"}],\"scattergl\":[{\"type\":\"scattergl\",\"marker\":{\"colorbar\":{\"outlinewidth\":0,\"ticks\":\"\"}}}],\"scatter3d\":[{\"type\":\"scatter3d\",\"line\":{\"colorbar\":{\"outlinewidth\":0,\"ticks\":\"\"}},\"marker\":{\"colorbar\":{\"outlinewidth\":0,\"ticks\":\"\"}}}],\"scattermapbox\":[{\"type\":\"scattermapbox\",\"marker\":{\"colorbar\":{\"outlinewidth\":0,\"ticks\":\"\"}}}],\"scatterternary\":[{\"type\":\"scatterternary\",\"marker\":{\"colorbar\":{\"outlinewidth\":0,\"ticks\":\"\"}}}],\"scattercarpet\":[{\"type\":\"scattercarpet\",\"marker\":{\"colorbar\":{\"outlinewidth\":0,\"ticks\":\"\"}}}],\"carpet\":[{\"aaxis\":{\"endlinecolor\":\"#2a3f5f\",\"gridcolor\":\"white\",\"linecolor\":\"white\",\"minorgridcolor\":\"white\",\"startlinecolor\":\"#2a3f5f\"},\"baxis\":{\"endlinecolor\":\"#2a3f5f\",\"gridcolor\":\"white\",\"linecolor\":\"white\",\"minorgridcolor\":\"white\",\"startlinecolor\":\"#2a3f5f\"},\"type\":\"carpet\"}],\"table\":[{\"cells\":{\"fill\":{\"color\":\"#EBF0F8\"},\"line\":{\"color\":\"white\"}},\"header\":{\"fill\":{\"color\":\"#C8D4E3\"},\"line\":{\"color\":\"white\"}},\"type\":\"table\"}],\"barpolar\":[{\"marker\":{\"line\":{\"color\":\"#E5ECF6\",\"width\":0.5},\"pattern\":{\"fillmode\":\"overlay\",\"size\":10,\"solidity\":0.2}},\"type\":\"barpolar\"}],\"pie\":[{\"automargin\":true,\"type\":\"pie\"}]},\"layout\":{\"autotypenumbers\":\"strict\",\"colorway\":[\"#636efa\",\"#EF553B\",\"#00cc96\",\"#ab63fa\",\"#FFA15A\",\"#19d3f3\",\"#FF6692\",\"#B6E880\",\"#FF97FF\",\"#FECB52\"],\"font\":{\"color\":\"#2a3f5f\"},\"hovermode\":\"closest\",\"hoverlabel\":{\"align\":\"left\"},\"paper_bgcolor\":\"white\",\"plot_bgcolor\":\"#E5ECF6\",\"polar\":{\"bgcolor\":\"#E5ECF6\",\"angularaxis\":{\"gridcolor\":\"white\",\"linecolor\":\"white\",\"ticks\":\"\"},\"radialaxis\":{\"gridcolor\":\"white\",\"linecolor\":\"white\",\"ticks\":\"\"}},\"ternary\":{\"bgcolor\":\"#E5ECF6\",\"aaxis\":{\"gridcolor\":\"white\",\"linecolor\":\"white\",\"ticks\":\"\"},\"baxis\":{\"gridcolor\":\"white\",\"linecolor\":\"white\",\"ticks\":\"\"},\"caxis\":{\"gridcolor\":\"white\",\"linecolor\":\"white\",\"ticks\":\"\"}},\"coloraxis\":{\"colorbar\":{\"outlinewidth\":0,\"ticks\":\"\"}},\"colorscale\":{\"sequential\":[[0.0,\"#0d0887\"],[0.1111111111111111,\"#46039f\"],[0.2222222222222222,\"#7201a8\"],[0.3333333333333333,\"#9c179e\"],[0.4444444444444444,\"#bd3786\"],[0.5555555555555556,\"#d8576b\"],[0.6666666666666666,\"#ed7953\"],[0.7777777777777778,\"#fb9f3a\"],[0.8888888888888888,\"#fdca26\"],[1.0,\"#f0f921\"]],\"sequentialminus\":[[0.0,\"#0d0887\"],[0.1111111111111111,\"#46039f\"],[0.2222222222222222,\"#7201a8\"],[0.3333333333333333,\"#9c179e\"],[0.4444444444444444,\"#bd3786\"],[0.5555555555555556,\"#d8576b\"],[0.6666666666666666,\"#ed7953\"],[0.7777777777777778,\"#fb9f3a\"],[0.8888888888888888,\"#fdca26\"],[1.0,\"#f0f921\"]],\"diverging\":[[0,\"#8e0152\"],[0.1,\"#c51b7d\"],[0.2,\"#de77ae\"],[0.3,\"#f1b6da\"],[0.4,\"#fde0ef\"],[0.5,\"#f7f7f7\"],[0.6,\"#e6f5d0\"],[0.7,\"#b8e186\"],[0.8,\"#7fbc41\"],[0.9,\"#4d9221\"],[1,\"#276419\"]]},\"xaxis\":{\"gridcolor\":\"white\",\"linecolor\":\"white\",\"ticks\":\"\",\"title\":{\"standoff\":15},\"zerolinecolor\":\"white\",\"automargin\":true,\"zerolinewidth\":2},\"yaxis\":{\"gridcolor\":\"white\",\"linecolor\":\"white\",\"ticks\":\"\",\"title\":{\"standoff\":15},\"zerolinecolor\":\"white\",\"automargin\":true,\"zerolinewidth\":2},\"scene\":{\"xaxis\":{\"backgroundcolor\":\"#E5ECF6\",\"gridcolor\":\"white\",\"linecolor\":\"white\",\"showbackground\":true,\"ticks\":\"\",\"zerolinecolor\":\"white\",\"gridwidth\":2},\"yaxis\":{\"backgroundcolor\":\"#E5ECF6\",\"gridcolor\":\"white\",\"linecolor\":\"white\",\"showbackground\":true,\"ticks\":\"\",\"zerolinecolor\":\"white\",\"gridwidth\":2},\"zaxis\":{\"backgroundcolor\":\"#E5ECF6\",\"gridcolor\":\"white\",\"linecolor\":\"white\",\"showbackground\":true,\"ticks\":\"\",\"zerolinecolor\":\"white\",\"gridwidth\":2}},\"shapedefaults\":{\"line\":{\"color\":\"#2a3f5f\"}},\"annotationdefaults\":{\"arrowcolor\":\"#2a3f5f\",\"arrowhead\":0,\"arrowwidth\":1},\"geo\":{\"bgcolor\":\"white\",\"landcolor\":\"#E5ECF6\",\"subunitcolor\":\"white\",\"showland\":true,\"showlakes\":true,\"lakecolor\":\"white\"},\"title\":{\"x\":0.05},\"mapbox\":{\"style\":\"light\"}}},\"xaxis\":{\"anchor\":\"y\",\"domain\":[0.0,1.0],\"title\":{\"text\":\"Book Prices\"}},\"yaxis\":{\"anchor\":\"x\",\"domain\":[0.0,1.0],\"title\":{\"text\":\"count\"}},\"legend\":{\"title\":{\"text\":\"Book Titles\"},\"tracegroupgap\":0},\"margin\":{\"t\":60},\"barmode\":\"relative\",\"title\":{\"text\":\"Prices of Different Books\",\"x\":0.3},\"autosize\":false,\"width\":800,\"height\":300},                        {\"responsive\": true}                    ).then(function(){\n",
       "                            \n",
       "var gd = document.getElementById('ce7c4cf6-2447-4382-9318-7707fc1510cb');\n",
       "var x = new MutationObserver(function (mutations, observer) {{\n",
       "        var display = window.getComputedStyle(gd).display;\n",
       "        if (!display || display === 'none') {{\n",
       "            console.log([gd, 'removed!']);\n",
       "            Plotly.purge(gd);\n",
       "            observer.disconnect();\n",
       "        }}\n",
       "}});\n",
       "\n",
       "// Listen for the removal of the full notebook cells\n",
       "var notebookContainer = gd.closest('#notebook-container');\n",
       "if (notebookContainer) {{\n",
       "    x.observe(notebookContainer, {childList: true});\n",
       "}}\n",
       "\n",
       "// Listen for the clearing of the current output cell\n",
       "var outputEl = gd.closest('.output');\n",
       "if (outputEl) {{\n",
       "    x.observe(outputEl, {childList: true});\n",
       "}}\n",
       "\n",
       "                        })                };                });            </script>        </div>"
      ]
     },
     "metadata": {},
     "output_type": "display_data"
    }
   ],
   "source": [
    "fig=px.histogram(DF,\n",
    "                x='prices',\n",
    "                color='names')\n",
    "fig.update_layout(title='Prices of Different Books',\n",
    "                  title_x=0.3,\n",
    "                  xaxis_title=\"Book Prices\",\n",
    "                  legend_title=\"Book Titles\",\n",
    "                  autosize=False,\n",
    "                  width=800,\n",
    "                  height=300)\n",
    "fig.show()"
   ]
  },
  {
   "cell_type": "markdown",
   "id": "b47684ef-92a1-4555-97b5-98612af0056d",
   "metadata": {},
   "source": [
    "The first step I did in order to complete this question was to create a soup to search for the data relating to the books 'name' and 'link'. Then I created a data frame with just this column. Afterwards I created two different lambdas so I could break apart that first column into two seperate columns for 'names' and 'links'. Then I repeated the same original steps of creating a soup to search for any data relating to book 'prices'. Finally I added the 'prices' data into the previous data frame as a new column."
   ]
  },
  {
   "cell_type": "markdown",
   "id": "54790003-d06b-46af-b5a0-2de6c5fb9ce4",
   "metadata": {},
   "source": [
    "The histogram above shows an overview of the different prices for different books. I identified the x-axis as 'prices', the y-axis as a count, and I colored all the different book 'names' so it would be easier to understand by viewing."
   ]
  }
 ],
 "metadata": {
  "kernelspec": {
   "display_name": "Python 3 (ipykernel)",
   "language": "python",
   "name": "python3"
  },
  "language_info": {
   "codemirror_mode": {
    "name": "ipython",
    "version": 3
   },
   "file_extension": ".py",
   "mimetype": "text/x-python",
   "name": "python",
   "nbconvert_exporter": "python",
   "pygments_lexer": "ipython3",
   "version": "3.12.2"
  }
 },
 "nbformat": 4,
 "nbformat_minor": 5
}
